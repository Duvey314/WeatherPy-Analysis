{
 "cells": [
  {
   "cell_type": "code",
   "execution_count": 1,
   "metadata": {},
   "outputs": [],
   "source": [
    "#import pandas for df management\n",
    "import pandas as pd\n",
    "\n",
    "# import numpy\n",
    "import numpy as np\n",
    "\n",
    "#import matplotlib for plotting funtionality\n",
    "import matplotlib.pyplot as plt\n",
    "\n",
    "# import citipy to get closest city from lat long\n",
    "from citipy import citipy\n",
    "\n",
    "# import the datetime module from the datetime library\n",
    "from datetime import datetime\n",
    "\n",
    "# Import the API key.\n",
    "from config import weather_api_key\n",
    "\n",
    "# Import the API key.\n",
    "from config import google_api_key\n",
    "\n",
    "# import gmaps for google mapping\n",
    "import gmaps\n",
    "\n",
    "# Import the requests library.\n",
    "import requests\n",
    "\n",
    "# import os for path join\n",
    "import os"
   ]
  },
  {
   "cell_type": "code",
   "execution_count": 4,
   "metadata": {},
   "outputs": [
    {
     "output_type": "execute_result",
     "data": {
      "text/plain": "   City_ID     City Country Description  Max Temp    Lat     Lng  \\\n0       60  Kavieng      PG  light rain     82.20  -2.57  150.80   \n1       62    Buala      SB  light rain     81.16  -8.14  159.59   \n2       86   Dayong      CN  light rain     84.20  25.02  118.29   \n3      111  Caninde      BR  light rain     76.39  -4.36  -39.31   \n4      113     Mana      GF  light rain     80.94   5.66  -53.78   \n\n             Hotel Name  \n0   Nusa Island Retreat  \n1  Maringe Lagoon Lodge  \n2  Haiyue Express Hotel  \n3  Hotel Casa Grande II  \n4             LE SAMANA  ",
      "text/html": "<div>\n<style scoped>\n    .dataframe tbody tr th:only-of-type {\n        vertical-align: middle;\n    }\n\n    .dataframe tbody tr th {\n        vertical-align: top;\n    }\n\n    .dataframe thead th {\n        text-align: right;\n    }\n</style>\n<table border=\"1\" class=\"dataframe\">\n  <thead>\n    <tr style=\"text-align: right;\">\n      <th></th>\n      <th>City_ID</th>\n      <th>City</th>\n      <th>Country</th>\n      <th>Description</th>\n      <th>Max Temp</th>\n      <th>Lat</th>\n      <th>Lng</th>\n      <th>Hotel Name</th>\n    </tr>\n  </thead>\n  <tbody>\n    <tr>\n      <th>0</th>\n      <td>60</td>\n      <td>Kavieng</td>\n      <td>PG</td>\n      <td>light rain</td>\n      <td>82.20</td>\n      <td>-2.57</td>\n      <td>150.80</td>\n      <td>Nusa Island Retreat</td>\n    </tr>\n    <tr>\n      <th>1</th>\n      <td>62</td>\n      <td>Buala</td>\n      <td>SB</td>\n      <td>light rain</td>\n      <td>81.16</td>\n      <td>-8.14</td>\n      <td>159.59</td>\n      <td>Maringe Lagoon Lodge</td>\n    </tr>\n    <tr>\n      <th>2</th>\n      <td>86</td>\n      <td>Dayong</td>\n      <td>CN</td>\n      <td>light rain</td>\n      <td>84.20</td>\n      <td>25.02</td>\n      <td>118.29</td>\n      <td>Haiyue Express Hotel</td>\n    </tr>\n    <tr>\n      <th>3</th>\n      <td>111</td>\n      <td>Caninde</td>\n      <td>BR</td>\n      <td>light rain</td>\n      <td>76.39</td>\n      <td>-4.36</td>\n      <td>-39.31</td>\n      <td>Hotel Casa Grande II</td>\n    </tr>\n    <tr>\n      <th>4</th>\n      <td>113</td>\n      <td>Mana</td>\n      <td>GF</td>\n      <td>light rain</td>\n      <td>80.94</td>\n      <td>5.66</td>\n      <td>-53.78</td>\n      <td>LE SAMANA</td>\n    </tr>\n  </tbody>\n</table>\n</div>"
     },
     "metadata": {},
     "execution_count": 4
    }
   ],
   "source": [
    "vacation_file_path = os.path.join(\"Data\",\"WeatherPy_Vacation.csv\")\n",
    "vacation_data_df = pd.read_csv(vacation_file_path)\n",
    "vacation_data_df.head()"
   ]
  },
  {
   "cell_type": "markdown",
   "metadata": {},
   "source": [
    "The cities we will be tranveling to are: La Sarre, Pinawa, Lincoln, Batesville\n",
    "\n",
    "\n"
   ]
  },
  {
   "cell_type": "code",
   "execution_count": 19,
   "metadata": {},
   "outputs": [],
   "source": [
    "#\n",
    "La_Sarre_df = vacation_data_df.loc[(vacation_data_df[\"City\"] == \"La Sarre\")]\n",
    "La_Sarre = La_Sarre_df.to_numpy()\n",
    "\n",
    "Pinawa_df = vacation_data_df.loc[(vacation_data_df[\"City\"] == \"Pinawa\")]\n",
    "Pinawa = Pinawa_df.to_numpy()\n",
    "\n",
    "Lincoln_df = vacation_data_df.loc[(vacation_data_df[\"City\"] == \"Lincoln\")]\n",
    "Lincoln = Lincoln_df.to_numpy()\n",
    "\n",
    "Batesville_df = vacation_data_df.loc[(vacation_data_df[\"City\"] == \"Batesville\")]\n",
    "Batesville = Batesville_df.to_numpy()\n",
    "\n",
    "\n"
   ]
  },
  {
   "cell_type": "code",
   "execution_count": null,
   "metadata": {},
   "outputs": [],
   "source": []
  }
 ],
 "metadata": {
  "language_info": {
   "codemirror_mode": {
    "name": "ipython",
    "version": 3
   },
   "file_extension": ".py",
   "mimetype": "text/x-python",
   "name": "python",
   "nbconvert_exporter": "python",
   "pygments_lexer": "ipython3",
   "version": "3.7.7-final"
  },
  "orig_nbformat": 2,
  "kernelspec": {
   "name": "python_defaultSpec_1594335695882",
   "display_name": "Python 3.7.7 64-bit ('PythonData': conda)"
  }
 },
 "nbformat": 4,
 "nbformat_minor": 2
}