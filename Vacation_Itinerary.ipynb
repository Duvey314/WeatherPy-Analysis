{
 "cells": [
  {
   "cell_type": "code",
   "execution_count": 35,
   "metadata": {},
   "outputs": [],
   "source": [
    "#import pandas for df management\n",
    "import pandas as pd\n",
    "\n",
    "# import numpy\n",
    "import numpy as np\n",
    "\n",
    "#import matplotlib for plotting funtionality\n",
    "import matplotlib.pyplot as plt\n",
    "\n",
    "# import citipy to get closest city from lat long\n",
    "from citipy import citipy\n",
    "\n",
    "# import the datetime module from the datetime library\n",
    "from datetime import datetime\n",
    "\n",
    "# Import the API key.\n",
    "from config import weather_api_key\n",
    "\n",
    "# Import the API key.\n",
    "from config import google_api_key\n",
    "\n",
    "# import gmaps for google mapping\n",
    "import gmaps\n",
    "import gmaps.datasets\n",
    "# Import the requests library.\n",
    "import requests\n",
    "\n",
    "# import os for path join\n",
    "import os"
   ]
  },
  {
   "cell_type": "markdown",
   "metadata": {},
   "source": [
    "First thing is to import the hotel data."
   ]
  },
  {
   "cell_type": "code",
   "execution_count": 32,
   "metadata": {},
   "outputs": [
    {
     "output_type": "execute_result",
     "data": {
      "text/plain": "   City_ID            City Country      Description  Max Temp    Lat     Lng  \\\n0        0         Fortuna      US        clear sky     70.00  40.60 -124.16   \n1        2    Komsomolskiy      UZ  overcast clouds     77.00  40.43   71.72   \n2        6        Matagami      CA        clear sky     86.00  49.75  -77.63   \n3       11      Butaritari      KI        clear sky     83.89   3.07  172.79   \n4       14  Saint-Philippe      RE       few clouds     71.60 -21.36   55.77   \n\n                     Hotel Name  \n0    Super 8 by Wyndham Fortuna  \n1                     Ikathouse  \n2                Hôtel Matagami  \n3            Isles Sunset Lodge  \n4  Chambres d'hôte \"La Trinité\"  ",
      "text/html": "<div>\n<style scoped>\n    .dataframe tbody tr th:only-of-type {\n        vertical-align: middle;\n    }\n\n    .dataframe tbody tr th {\n        vertical-align: top;\n    }\n\n    .dataframe thead th {\n        text-align: right;\n    }\n</style>\n<table border=\"1\" class=\"dataframe\">\n  <thead>\n    <tr style=\"text-align: right;\">\n      <th></th>\n      <th>City_ID</th>\n      <th>City</th>\n      <th>Country</th>\n      <th>Description</th>\n      <th>Max Temp</th>\n      <th>Lat</th>\n      <th>Lng</th>\n      <th>Hotel Name</th>\n    </tr>\n  </thead>\n  <tbody>\n    <tr>\n      <th>0</th>\n      <td>0</td>\n      <td>Fortuna</td>\n      <td>US</td>\n      <td>clear sky</td>\n      <td>70.00</td>\n      <td>40.60</td>\n      <td>-124.16</td>\n      <td>Super 8 by Wyndham Fortuna</td>\n    </tr>\n    <tr>\n      <th>1</th>\n      <td>2</td>\n      <td>Komsomolskiy</td>\n      <td>UZ</td>\n      <td>overcast clouds</td>\n      <td>77.00</td>\n      <td>40.43</td>\n      <td>71.72</td>\n      <td>Ikathouse</td>\n    </tr>\n    <tr>\n      <th>2</th>\n      <td>6</td>\n      <td>Matagami</td>\n      <td>CA</td>\n      <td>clear sky</td>\n      <td>86.00</td>\n      <td>49.75</td>\n      <td>-77.63</td>\n      <td>Hôtel Matagami</td>\n    </tr>\n    <tr>\n      <th>3</th>\n      <td>11</td>\n      <td>Butaritari</td>\n      <td>KI</td>\n      <td>clear sky</td>\n      <td>83.89</td>\n      <td>3.07</td>\n      <td>172.79</td>\n      <td>Isles Sunset Lodge</td>\n    </tr>\n    <tr>\n      <th>4</th>\n      <td>14</td>\n      <td>Saint-Philippe</td>\n      <td>RE</td>\n      <td>few clouds</td>\n      <td>71.60</td>\n      <td>-21.36</td>\n      <td>55.77</td>\n      <td>Chambres d'hôte \"La Trinité\"</td>\n    </tr>\n  </tbody>\n</table>\n</div>"
     },
     "metadata": {},
     "execution_count": 32
    }
   ],
   "source": [
    "vacation_file_path = os.path.join(\"Data\",\"WeatherPy_Vacation.csv\")\n",
    "vacation_data_df = pd.read_csv(vacation_file_path)\n",
    "vacation_data_df.head()"
   ]
  },
  {
   "cell_type": "markdown",
   "metadata": {},
   "source": [
    "The cities we will be travelling to are: Tsihombe, Matagami, Chapais, La Tuque\n",
    "\n",
    "\n"
   ]
  },
  {
   "cell_type": "code",
   "execution_count": 48,
   "metadata": {
    "tags": []
   },
   "outputs": [],
   "source": [
    "# get the lat and long from each location in the form of a tuple\n",
    "Tsihombe_df = vacation_data_df.loc[(vacation_data_df[\"City\"] == \"Tsihombe\")]\n",
    "Tsihombe = tuple(Tsihombe_df.to_numpy()[0][5:7])\n",
    "\n",
    "Matagami_df = vacation_data_df.loc[(vacation_data_df[\"City\"] == \"Matagami\")]\n",
    "Matagami = tuple(Matagami_df.to_numpy()[0][5:7])\n",
    "\n",
    "Chapais_df = vacation_data_df.loc[(vacation_data_df[\"City\"] == \"Chapais\")]\n",
    "Chapais = tuple(Chapais_df.to_numpy()[0][5:7])\n",
    "\n",
    "La_Tuque_df = vacation_data_df.loc[(vacation_data_df[\"City\"] == \"La Tuque\")]\n",
    "La_Tuque = tuple(La_Tuque_df.to_numpy()[0][5:7])"
   ]
  },
  {
   "cell_type": "code",
   "execution_count": 50,
   "metadata": {},
   "outputs": [
    {
     "output_type": "display_data",
     "data": {
      "text/plain": "Figure(layout=FigureLayout(height='420px'))",
      "application/vnd.jupyter.widget-view+json": {
       "version_major": 2,
       "version_minor": 0,
       "model_id": "e650777825134951ad08cfff805eba51"
      }
     },
     "metadata": {}
    }
   ],
   "source": [
    "# set api key for gmaps\n",
    "gmaps.configure(api_key=google_api_key)\n",
    "\n",
    "# create the figure\n",
    "fig = gmaps.figure()\n",
    "\n",
    "# set itinerary\n",
    "Vacation_Itinerary = gmaps.directions_layer(Tsihombe, La_Tuque, waypoints=[Matagami,Chapais])\n",
    "\n",
    "# add itinerary top map\n",
    "fig.add_layer(Vacation_Itinerary)\n",
    "\n",
    "# show map\n",
    "fig"
   ]
  },
  {
   "cell_type": "code",
   "execution_count": 51,
   "metadata": {},
   "outputs": [
    {
     "output_type": "execute_result",
     "data": {
      "text/plain": "    City_ID      City Country      Description  Max Temp    Lat    Lng  \\\n6        19  Tsihombe      CA    broken clouds     89.60  48.57 -78.12   \n2         6  Matagami      CA        clear sky     86.00  49.75 -77.63   \n67      181   Chapais      CA    broken clouds     84.20  49.78 -74.85   \n53      140  La Tuque      CA  overcast clouds     74.84  47.43 -72.78   \n\n                      Hotel Name  \n6   Amosphère, complexe hôtelier  \n2                 Hôtel Matagami  \n67                Hôtel Opémiska  \n53               Le Gite du Parc  ",
      "text/html": "<div>\n<style scoped>\n    .dataframe tbody tr th:only-of-type {\n        vertical-align: middle;\n    }\n\n    .dataframe tbody tr th {\n        vertical-align: top;\n    }\n\n    .dataframe thead th {\n        text-align: right;\n    }\n</style>\n<table border=\"1\" class=\"dataframe\">\n  <thead>\n    <tr style=\"text-align: right;\">\n      <th></th>\n      <th>City_ID</th>\n      <th>City</th>\n      <th>Country</th>\n      <th>Description</th>\n      <th>Max Temp</th>\n      <th>Lat</th>\n      <th>Lng</th>\n      <th>Hotel Name</th>\n    </tr>\n  </thead>\n  <tbody>\n    <tr>\n      <th>6</th>\n      <td>19</td>\n      <td>Tsihombe</td>\n      <td>CA</td>\n      <td>broken clouds</td>\n      <td>89.60</td>\n      <td>48.57</td>\n      <td>-78.12</td>\n      <td>Amosphère, complexe hôtelier</td>\n    </tr>\n    <tr>\n      <th>2</th>\n      <td>6</td>\n      <td>Matagami</td>\n      <td>CA</td>\n      <td>clear sky</td>\n      <td>86.00</td>\n      <td>49.75</td>\n      <td>-77.63</td>\n      <td>Hôtel Matagami</td>\n    </tr>\n    <tr>\n      <th>67</th>\n      <td>181</td>\n      <td>Chapais</td>\n      <td>CA</td>\n      <td>broken clouds</td>\n      <td>84.20</td>\n      <td>49.78</td>\n      <td>-74.85</td>\n      <td>Hôtel Opémiska</td>\n    </tr>\n    <tr>\n      <th>53</th>\n      <td>140</td>\n      <td>La Tuque</td>\n      <td>CA</td>\n      <td>overcast clouds</td>\n      <td>74.84</td>\n      <td>47.43</td>\n      <td>-72.78</td>\n      <td>Le Gite du Parc</td>\n    </tr>\n  </tbody>\n</table>\n</div>"
     },
     "metadata": {},
     "execution_count": 51
    }
   ],
   "source": [
    "Trip_df = pd.concat([Tsihombe_df,Matagami_df,Chapais_df,La_Tuque_df])\n",
    "Trip_df"
   ]
  },
  {
   "cell_type": "code",
   "execution_count": 53,
   "metadata": {},
   "outputs": [
    {
     "output_type": "display_data",
     "data": {
      "text/plain": "Figure(layout=FigureLayout(height='420px'))",
      "application/vnd.jupyter.widget-view+json": {
       "version_major": 2,
       "version_minor": 0,
       "model_id": "0e2d927fdd2c4264929d89fe09c2c5a2"
      }
     },
     "metadata": {}
    }
   ],
   "source": [
    "# html for what goes in the descriptor box\n",
    "info_box_template = \"\"\"\n",
    "<dl>\n",
    "<dt>Hotel Name</dt><dd>{Hotel Name}</dd>\n",
    "<dt>City</dt><dd>{City}</dd>\n",
    "<dt>Country</dt><dd>{Country}</dd>\n",
    "<dt>Description</dt><dd>{Description}</dd>\n",
    "<dt>Max Temp</dt><dd>{Max Temp} °F</dd>\n",
    "</dl>\n",
    "\"\"\"\n",
    "# Store the DataFrame Row.\n",
    "hotel_info = [info_box_template.format(**row) for index, row in Trip_df.iterrows()]\n",
    "\n",
    "# Add a map of vacation spots and a pop-up marker for each city.\n",
    "locations = Trip_df[[\"Lat\", \"Lng\"]]\n",
    "fig = gmaps.figure(center=(30.0, 31.0), zoom_level=1.0)\n",
    "marker_layer = gmaps.marker_layer(locations, info_box_content=hotel_info)\n",
    "fig.add_layer(marker_layer)\n",
    "\n",
    "# Call the figure to plot the data.\n",
    "fig"
   ]
  },
  {
   "cell_type": "code",
   "execution_count": null,
   "metadata": {},
   "outputs": [],
   "source": []
  }
 ],
 "metadata": {
  "language_info": {
   "codemirror_mode": {
    "name": "ipython",
    "version": 3
   },
   "file_extension": ".py",
   "mimetype": "text/x-python",
   "name": "python",
   "nbconvert_exporter": "python",
   "pygments_lexer": "ipython3",
   "version": "3.7.7-final"
  },
  "orig_nbformat": 2,
  "kernelspec": {
   "name": "python_defaultSpec_1594393115041",
   "display_name": "Python 3.7.7 64-bit ('PythonData': conda)"
  }
 },
 "nbformat": 4,
 "nbformat_minor": 2
}