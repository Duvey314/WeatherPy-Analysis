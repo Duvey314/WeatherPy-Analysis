{
 "cells": [
  {
   "cell_type": "code",
   "execution_count": 1,
   "metadata": {},
   "outputs": [],
   "source": [
    "#import the random module\n",
    "import random\n",
    "\n",
    "#import pandas for df management\n",
    "import pandas as pd\n",
    "\n",
    "# import numpy\n",
    "import numpy as np\n",
    "\n",
    "#import matplotlib for plotting funtionality\n",
    "import matplotlib.pyplot as plt\n",
    "\n",
    "# Import linear regression from the SciPy stats module.\n",
    "from scipy.stats import linregress\n",
    "\n",
    "# import citipy to get closest city from lat long\n",
    "from citipy import citipy\n",
    "\n",
    "# import the datetime module from the datetime library\n",
    "from datetime import datetime\n",
    "\n",
    "# Import the API key.\n",
    "from config import weather_api_key\n",
    "\n",
    "# Import the requests library.\n",
    "import requests\n",
    "\n",
    "import os"
   ]
  },
  {
   "cell_type": "code",
   "execution_count": 2,
   "metadata": {},
   "outputs": [],
   "source": [
    "# create a set of random latitude and longitude combinations\n",
    "lats = np.random.uniform(low=-90.000, high=90.000, size=1500)\n",
    "lngs = np.random.uniform(low=-180.000, high=180.000, size=1500)\n",
    "lat_lngs = zip(lats, lngs)\n",
    "\n",
    "# add the latitudes and longitudes to a list\n",
    "coordinates = list(lat_lngs)"
   ]
  },
  {
   "cell_type": "code",
   "execution_count": 3,
   "metadata": {},
   "outputs": [
    {
     "output_type": "execute_result",
     "data": {
      "text/plain": "602"
     },
     "metadata": {},
     "execution_count": 3
    }
   ],
   "source": [
    "# Create a list for holding the cities.\n",
    "cities = []\n",
    "\n",
    "# Identify the nearest city for each latitude and longitude combination.\n",
    "for coordinate in coordinates:\n",
    "    city = citipy.nearest_city(coordinate[0], coordinate[1]).city_name\n",
    "    # If the city is unique, then we will add it to the cities list.\n",
    "    if city not in cities:\n",
    "        cities.append(city)\n",
    "        \n",
    "# Print the city count to confirm sufficient count.\n",
    "len(cities)"
   ]
  },
  {
   "cell_type": "code",
   "execution_count": 4,
   "metadata": {
    "tags": [
     "outputPrepend"
    ]
   },
   "outputs": [
    {
     "output_type": "stream",
     "name": "stdout",
     "text": "ing Record 48 of Set 6 | mildura\nNo Rainfall\nNo Snowfall\nProcessing Record 49 of Set 6 | keetmanshoop\nNo Rainfall\nNo Snowfall\nProcessing Record 50 of Set 6 | korem\nNo Snowfall\nProcessing Record 1 of Set 7 | bereda\nNo Rainfall\nNo Snowfall\nProcessing Record 2 of Set 7 | heers\nNo Rainfall\nNo Snowfall\nProcessing Record 3 of Set 7 | edd\nNo Rainfall\nNo Snowfall\nProcessing Record 4 of Set 7 | namibe\nNo Rainfall\nNo Snowfall\nProcessing Record 5 of Set 7 | nguiu\nCity not found. Skipping...\nNo Rainfall\nNo Snowfall\nProcessing Record 6 of Set 7 | chagda\nCity not found. Skipping...\nNo Rainfall\nNo Snowfall\nProcessing Record 7 of Set 7 | felanitx\nNo Rainfall\nNo Snowfall\nProcessing Record 8 of Set 7 | bengkulu\nNo Snowfall\nProcessing Record 9 of Set 7 | nizhniy tsasuchey\nNo Rainfall\nNo Snowfall\nProcessing Record 10 of Set 7 | karratha\nNo Rainfall\nNo Snowfall\nProcessing Record 11 of Set 7 | hithadhoo\nNo Snowfall\nProcessing Record 12 of Set 7 | tiarei\nNo Rainfall\nNo Snowfall\nProcessing Record 13 of Set 7 | yeppoon\nNo Rainfall\nNo Snowfall\nProcessing Record 14 of Set 7 | tiksi\nNo Rainfall\nNo Snowfall\nProcessing Record 15 of Set 7 | disna\nNo Rainfall\nNo Snowfall\nProcessing Record 16 of Set 7 | husavik\nNo Rainfall\nNo Snowfall\nProcessing Record 17 of Set 7 | champerico\nNo Rainfall\nNo Snowfall\nProcessing Record 18 of Set 7 | taoudenni\nNo Rainfall\nNo Snowfall\nProcessing Record 19 of Set 7 | obo\nNo Rainfall\nNo Snowfall\nProcessing Record 20 of Set 7 | dunedin\nNo Rainfall\nNo Snowfall\nProcessing Record 21 of Set 7 | saint-francois\nNo Rainfall\nNo Snowfall\nProcessing Record 22 of Set 7 | kuryk\nNo Rainfall\nNo Snowfall\nProcessing Record 23 of Set 7 | koluszki\nNo Rainfall\nNo Snowfall\nProcessing Record 24 of Set 7 | roma\nNo Snowfall\nProcessing Record 25 of Set 7 | tubuala\nNo Rainfall\nNo Snowfall\nProcessing Record 26 of Set 7 | lanigan\nNo Snowfall\nProcessing Record 27 of Set 7 | solenzo\nNo Rainfall\nNo Snowfall\nProcessing Record 28 of Set 7 | christchurch\nNo Snowfall\nProcessing Record 29 of Set 7 | pangody\nNo Rainfall\nNo Snowfall\nProcessing Record 30 of Set 7 | abu dhabi\nNo Rainfall\nNo Snowfall\nProcessing Record 31 of Set 7 | sao joao da barra\nNo Rainfall\nNo Snowfall\nProcessing Record 32 of Set 7 | bara\nNo Rainfall\nNo Snowfall\nProcessing Record 33 of Set 7 | vila franca do campo\nNo Rainfall\nNo Snowfall\nProcessing Record 34 of Set 7 | iwakura\nNo Rainfall\nNo Snowfall\nProcessing Record 35 of Set 7 | semnan\nNo Rainfall\nNo Snowfall\nProcessing Record 36 of Set 7 | linchuan\nCity not found. Skipping...\nNo Rainfall\nNo Snowfall\nProcessing Record 37 of Set 7 | srednekolymsk\nNo Snowfall\nProcessing Record 38 of Set 7 | port elizabeth\nNo Rainfall\nNo Snowfall\nProcessing Record 39 of Set 7 | vila velha\nNo Rainfall\nNo Snowfall\nProcessing Record 40 of Set 7 | miraflores\nNo Rainfall\nNo Snowfall\nProcessing Record 41 of Set 7 | dingle\nNo Rainfall\nNo Snowfall\nProcessing Record 42 of Set 7 | bethel\nNo Snowfall\nProcessing Record 43 of Set 7 | tukrah\nNo Rainfall\nNo Snowfall\nProcessing Record 44 of Set 7 | xining\nNo Rainfall\nNo Snowfall\nProcessing Record 45 of Set 7 | pochinki\nNo Rainfall\nNo Snowfall\nProcessing Record 46 of Set 7 | tagajo\nNo Rainfall\nNo Snowfall\nProcessing Record 47 of Set 7 | saint-georges\nNo Rainfall\nNo Snowfall\nProcessing Record 48 of Set 7 | xiongyue\nNo Rainfall\nNo Snowfall\nProcessing Record 49 of Set 7 | tartagal\nNo Rainfall\nNo Snowfall\nProcessing Record 50 of Set 7 | alihe\nNo Rainfall\nNo Snowfall\nProcessing Record 1 of Set 8 | chiredzi\nNo Rainfall\nNo Snowfall\nProcessing Record 2 of Set 8 | price\nNo Rainfall\nNo Snowfall\nProcessing Record 3 of Set 8 | san cristobal\nNo Rainfall\nNo Snowfall\nProcessing Record 4 of Set 8 | meulaboh\nNo Snowfall\nProcessing Record 5 of Set 8 | dhidhdhoo\nNo Rainfall\nNo Snowfall\nProcessing Record 6 of Set 8 | menongue\nNo Rainfall\nNo Snowfall\nProcessing Record 7 of Set 8 | baiyin\nNo Rainfall\nNo Snowfall\nProcessing Record 8 of Set 8 | kloulklubed\nNo Rainfall\nNo Snowfall\nProcessing Record 9 of Set 8 | kartaly\nNo Rainfall\nNo Snowfall\nProcessing Record 10 of Set 8 | bourail\nNo Rainfall\nNo Snowfall\nProcessing Record 11 of Set 8 | tornio\nNo Rainfall\nNo Snowfall\nProcessing Record 12 of Set 8 | syracuse\nNo Rainfall\nNo Snowfall\nProcessing Record 13 of Set 8 | zuhres\nNo Rainfall\nNo Snowfall\nProcessing Record 14 of Set 8 | guerrero negro\nNo Rainfall\nNo Snowfall\nProcessing Record 15 of Set 8 | micheweni\nNo Snowfall\nProcessing Record 16 of Set 8 | dolinsk\nNo Rainfall\nNo Snowfall\nProcessing Record 17 of Set 8 | lazaro cardenas\nNo Snowfall\nProcessing Record 18 of Set 8 | portland\nNo Rainfall\nNo Snowfall\nProcessing Record 19 of Set 8 | alice springs\nNo Rainfall\nNo Snowfall\nProcessing Record 20 of Set 8 | malavalli\nNo Rainfall\nNo Snowfall\nProcessing Record 21 of Set 8 | ouesso\nNo Rainfall\nNo Snowfall\nProcessing Record 22 of Set 8 | mitsamiouli\nNo Rainfall\nNo Snowfall\nProcessing Record 23 of Set 8 | newport\nNo Rainfall\nNo Snowfall\nProcessing Record 24 of Set 8 | waingapu\nNo Rainfall\nNo Snowfall\nProcessing Record 25 of Set 8 | kavieng\nNo Rainfall\nNo Snowfall\nProcessing Record 26 of Set 8 | gamba\nNo Rainfall\nNo Snowfall\nProcessing Record 27 of Set 8 | muros\nNo Rainfall\nNo Snowfall\nProcessing Record 28 of Set 8 | sorbhog\nNo Snowfall\nProcessing Record 29 of Set 8 | kijini\nNo Rainfall\nNo Snowfall\nProcessing Record 30 of Set 8 | luangwa\nNo Rainfall\nNo Snowfall\nProcessing Record 31 of Set 8 | katherine\nNo Rainfall\nNo Snowfall\nProcessing Record 32 of Set 8 | samarai\nNo Snowfall\nProcessing Record 33 of Set 8 | phan thiet\nNo Rainfall\nNo Snowfall\nProcessing Record 34 of Set 8 | pavilosta\nNo Snowfall\nProcessing Record 35 of Set 8 | warmbad\nNo Rainfall\nNo Snowfall\nProcessing Record 36 of Set 8 | belmonte\nNo Rainfall\nNo Snowfall\nProcessing Record 37 of Set 8 | copiapo\nNo Rainfall\nNo Snowfall\nProcessing Record 38 of Set 8 | slave lake\nNo Rainfall\nNo Snowfall\nProcessing Record 39 of Set 8 | port victoria\nNo Snowfall\nProcessing Record 40 of Set 8 | yaizu\nNo Snowfall\nProcessing Record 41 of Set 8 | elko\nNo Rainfall\nNo Snowfall\nProcessing Record 42 of Set 8 | kavaratti\nNo Snowfall\nProcessing Record 43 of Set 8 | yumen\nNo Rainfall\nNo Snowfall\nProcessing Record 44 of Set 8 | yabrud\nNo Rainfall\nNo Snowfall\nProcessing Record 45 of Set 8 | enkoping\nNo Rainfall\nNo Snowfall\nProcessing Record 46 of Set 8 | carman\nNo Rainfall\nNo Snowfall\nProcessing Record 47 of Set 8 | darhan\nNo Rainfall\nNo Snowfall\nProcessing Record 48 of Set 8 | gizo\nNo Snowfall\nProcessing Record 49 of Set 8 | gejiu\nNo Rainfall\nNo Snowfall\nProcessing Record 50 of Set 8 | zyryanka\nNo Rainfall\nNo Snowfall\nProcessing Record 1 of Set 9 | pitimbu\nNo Rainfall\nNo Snowfall\nProcessing Record 2 of Set 9 | grootfontein\nNo Rainfall\nNo Snowfall\nProcessing Record 3 of Set 9 | urengoy\nNo Rainfall\nNo Snowfall\nProcessing Record 4 of Set 9 | palimbang\nNo Rainfall\nNo Snowfall\nProcessing Record 5 of Set 9 | jinchengjiang\nCity not found. Skipping...\nNo Rainfall\nNo Snowfall\nProcessing Record 6 of Set 9 | grenada\nNo Rainfall\nNo Snowfall\nProcessing Record 7 of Set 9 | gerash\nNo Rainfall\nNo Snowfall\nProcessing Record 8 of Set 9 | fairbanks\nNo Rainfall\nNo Snowfall\nProcessing Record 9 of Set 9 | sentyabrskiy\nCity not found. Skipping...\nNo Rainfall\nNo Snowfall\nProcessing Record 10 of Set 9 | jinan\nNo Rainfall\nNo Snowfall\nProcessing Record 11 of Set 9 | atambua\nNo Rainfall\nNo Snowfall\nProcessing Record 12 of Set 9 | boda\nNo Rainfall\nNo Snowfall\nProcessing Record 13 of Set 9 | ust-shonosha\nNo Snowfall\nProcessing Record 14 of Set 9 | pisco\nNo Rainfall\nNo Snowfall\nProcessing Record 15 of Set 9 | chifeng\nNo Rainfall\nNo Snowfall\nProcessing Record 16 of Set 9 | kearney\nNo Rainfall\nNo Snowfall\nProcessing Record 17 of Set 9 | sidi ali\nNo Rainfall\nNo Snowfall\nProcessing Record 18 of Set 9 | chivolo\nNo Snowfall\nProcessing Record 19 of Set 9 | hambantota\nNo Rainfall\nNo Snowfall\nProcessing Record 20 of Set 9 | vung tau\nNo Rainfall\nNo Snowfall\nProcessing Record 21 of Set 9 | galle\nNo Rainfall\nNo Snowfall\nProcessing Record 22 of Set 9 | tautira\nNo Rainfall\nNo Snowfall\nProcessing Record 23 of Set 9 | cairns\nNo Rainfall\nNo Snowfall\nProcessing Record 24 of Set 9 | hualmay\nNo Rainfall\nNo Snowfall\nProcessing Record 25 of Set 9 | point pleasant\nNo Rainfall\nNo Snowfall\nProcessing Record 26 of Set 9 | andijon\nNo Rainfall\nNo Snowfall\nProcessing Record 27 of Set 9 | asfi\nNo Rainfall\nNo Snowfall\nProcessing Record 28 of Set 9 | springbok\nNo Rainfall\nNo Snowfall\nProcessing Record 29 of Set 9 | coquimbo\nNo Rainfall\nNo Snowfall\nProcessing Record 30 of Set 9 | voh\nNo Rainfall\nNo Snowfall\nProcessing Record 31 of Set 9 | klaksvik\nNo Rainfall\nNo Snowfall\nProcessing Record 32 of Set 9 | kainantu\nNo Rainfall\nNo Snowfall\nProcessing Record 33 of Set 9 | kaeo\nNo Rainfall\nNo Snowfall\nProcessing Record 34 of Set 9 | malwan\nCity not found. Skipping...\nNo Rainfall\nNo Snowfall\nProcessing Record 35 of Set 9 | butka\nNo Rainfall\nNo Snowfall\nProcessing Record 36 of Set 9 | tagab\nNo Rainfall\nNo Snowfall\nProcessing Record 37 of Set 9 | utiroa\nCity not found. Skipping...\nNo Rainfall\nNo Snowfall\nProcessing Record 38 of Set 9 | kampong thum\nNo Rainfall\nNo Snowfall\nProcessing Record 39 of Set 9 | vanavara\nNo Snowfall\nProcessing Record 40 of Set 9 | berlevag\nNo Rainfall\nNo Snowfall\nProcessing Record 41 of Set 9 | jibuti\nNo Rainfall\nNo Snowfall\nProcessing Record 42 of Set 9 | tahoua\nNo Rainfall\nNo Snowfall\nProcessing Record 43 of Set 9 | jiazi\nNo Rainfall\nNo Snowfall\nProcessing Record 44 of Set 9 | togur\nNo Rainfall\nNo Snowfall\nProcessing Record 45 of Set 9 | khandyga\nNo Rainfall\nNo Snowfall\nProcessing Record 46 of Set 9 | louisbourg\nCity not found. Skipping...\nNo Rainfall\nNo Snowfall\nProcessing Record 47 of Set 9 | bubaque\nNo Rainfall\nNo Snowfall\nProcessing Record 48 of Set 9 | gazojak\nNo Rainfall\nNo Snowfall\nProcessing Record 49 of Set 9 | bria\nNo Rainfall\nNo Snowfall\nProcessing Record 50 of Set 9 | garowe\nNo Rainfall\nNo Snowfall\nProcessing Record 1 of Set 10 | sao gabriel da cachoeira\nNo Snowfall\nProcessing Record 2 of Set 10 | sorvag\nCity not found. Skipping...\nNo Rainfall\nNo Snowfall\nProcessing Record 3 of Set 10 | itoman\nNo Rainfall\nNo Snowfall\nProcessing Record 4 of Set 10 | surgut\nNo Rainfall\nNo Snowfall\nProcessing Record 5 of Set 10 | andrews\nNo Rainfall\nNo Snowfall\nProcessing Record 6 of Set 10 | paamiut\nNo Rainfall\nNo Snowfall\nProcessing Record 7 of Set 10 | suntar\nNo Rainfall\nNo Snowfall\nProcessing Record 8 of Set 10 | warqla\nCity not found. Skipping...\nNo Rainfall\nNo Snowfall\nProcessing Record 9 of Set 10 | nemuro\nNo Rainfall\nNo Snowfall\nProcessing Record 10 of Set 10 | alofi\nNo Rainfall\nNo Snowfall\nProcessing Record 11 of Set 10 | huarmey\nNo Rainfall\nNo Snowfall\nProcessing Record 12 of Set 10 | emerald\nNo Rainfall\nNo Snowfall\nProcessing Record 13 of Set 10 | joshimath\nNo Rainfall\nNo Snowfall\nProcessing Record 14 of Set 10 | hobyo\nNo Rainfall\nNo Snowfall\nProcessing Record 15 of Set 10 | moron\nNo Rainfall\nNo Snowfall\nProcessing Record 16 of Set 10 | torbay\nNo Rainfall\nNo Snowfall\nProcessing Record 17 of Set 10 | prince rupert\nNo Rainfall\nNo Snowfall\nProcessing Record 18 of Set 10 | bac lieu\nNo Rainfall\nNo Snowfall\nProcessing Record 19 of Set 10 | chicama\nNo Rainfall\nNo Snowfall\nProcessing Record 20 of Set 10 | bay roberts\nNo Rainfall\nNo Snowfall\nProcessing Record 21 of Set 10 | teguldet\nNo Snowfall\nProcessing Record 22 of Set 10 | yerbogachen\nNo Rainfall\nNo Snowfall\nProcessing Record 23 of Set 10 | namatanai\nNo Rainfall\nNo Snowfall\nProcessing Record 24 of Set 10 | mezen\nNo Snowfall\nProcessing Record 25 of Set 10 | desbiens\nNo Rainfall\nNo Snowfall\nProcessing Record 26 of Set 10 | nyzhni sirohozy\nNo Rainfall\nNo Snowfall\nProcessing Record 27 of Set 10 | shingu\nNo Snowfall\nProcessing Record 28 of Set 10 | zhigansk\nNo Rainfall\nNo Snowfall\nProcessing Record 29 of Set 10 | chore\nCity not found. Skipping...\nNo Rainfall\nNo Snowfall\nProcessing Record 30 of Set 10 | thaba nchu\nNo Rainfall\nNo Snowfall\nProcessing Record 31 of Set 10 | clermont\nNo Rainfall\nNo Snowfall\nProcessing Record 32 of Set 10 | kinsale\nNo Rainfall\nNo Snowfall\nProcessing Record 33 of Set 10 | san jeronimo\nNo Rainfall\nNo Snowfall\nProcessing Record 34 of Set 10 | batticaloa\nNo Rainfall\nNo Snowfall\nProcessing Record 35 of Set 10 | tigil\nNo Rainfall\nNo Snowfall\nProcessing Record 36 of Set 10 | ossora\nNo Rainfall\nNo Snowfall\nProcessing Record 37 of Set 10 | akdepe\nNo Rainfall\nNo Snowfall\nProcessing Record 38 of Set 10 | esil\nNo Rainfall\nNo Snowfall\nProcessing Record 39 of Set 10 | batagay-alyta\nNo Rainfall\nNo Snowfall\nProcessing Record 40 of Set 10 | saint-jean-de-maurienne\nNo Rainfall\nNo Snowfall\nProcessing Record 41 of Set 10 | abha\nNo Rainfall\nNo Snowfall\nProcessing Record 42 of Set 10 | dahra\nNo Rainfall\nNo Snowfall\nProcessing Record 43 of Set 10 | palembang\nNo Rainfall\nNo Snowfall\nProcessing Record 44 of Set 10 | buraydah\nNo Rainfall\nNo Snowfall\nProcessing Record 45 of Set 10 | virginia beach\nNo Rainfall\nNo Snowfall\nProcessing Record 46 of Set 10 | honjo\nNo Snowfall\nProcessing Record 47 of Set 10 | ndago\nNo Rainfall\nNo Snowfall\nProcessing Record 48 of Set 10 | bargal\nCity not found. Skipping...\nNo Rainfall\nNo Snowfall\nProcessing Record 49 of Set 10 | los llanos de aridane\nNo Rainfall\nNo Snowfall\nProcessing Record 50 of Set 10 | manaia\nNo Rainfall\nNo Snowfall\nProcessing Record 1 of Set 11 | parana\nNo Rainfall\nNo Snowfall\nProcessing Record 2 of Set 11 | dudinka\nNo Rainfall\nNo Snowfall\nProcessing Record 3 of Set 11 | shache\nNo Rainfall\nNo Snowfall\nProcessing Record 4 of Set 11 | ventspils\nNo Rainfall\nNo Snowfall\nProcessing Record 5 of Set 11 | lesnoy\nNo Rainfall\nNo Snowfall\nProcessing Record 6 of Set 11 | dharchula\nNo Rainfall\nNo Snowfall\nProcessing Record 7 of Set 11 | racine\nNo Rainfall\nNo Snowfall\nProcessing Record 8 of Set 11 | sayansk\nNo Rainfall\nNo Snowfall\nProcessing Record 9 of Set 11 | biak\nNo Snowfall\nProcessing Record 10 of Set 11 | meadow lake\nNo Rainfall\nNo Snowfall\nProcessing Record 11 of Set 11 | clarksdale\nNo Snowfall\nProcessing Record 12 of Set 11 | vanimo\nNo Rainfall\nNo Snowfall\nProcessing Record 13 of Set 11 | poli\nNo Rainfall\nNo Snowfall\nProcessing Record 14 of Set 11 | machilipatnam\nNo Snowfall\nProcessing Record 15 of Set 11 | medford\nNo Rainfall\nNo Snowfall\nProcessing Record 16 of Set 11 | sindor\nNo Snowfall\nProcessing Record 17 of Set 11 | kudahuvadhoo\nNo Rainfall\nNo Snowfall\nProcessing Record 18 of Set 11 | yavoriv\nNo Snowfall\nProcessing Record 19 of Set 11 | tessalit\nNo Rainfall\nNo Snowfall\nProcessing Record 20 of Set 11 | verkhnetulomskiy\nNo Rainfall\nNo Snowfall\nProcessing Record 21 of Set 11 | egham\nNo Rainfall\nNo Snowfall\nProcessing Record 22 of Set 11 | calvia\nNo Rainfall\nNo Snowfall\nProcessing Record 23 of Set 11 | svetlaya\nNo Rainfall\nNo Snowfall\nProcessing Record 24 of Set 11 | neryungri\nNo Rainfall\nNo Snowfall\nProcessing Record 25 of Set 11 | altamira\nNo Snowfall\nProcessing Record 26 of Set 11 | almeria\nNo Rainfall\nNo Snowfall\nProcessing Record 27 of Set 11 | labutta\nCity not found. Skipping...\nNo Rainfall\nNo Snowfall\nProcessing Record 28 of Set 11 | paita\nNo Rainfall\nNo Snowfall\nProcessing Record 29 of Set 11 | mtwara\nNo Rainfall\nNo Snowfall\nProcessing Record 30 of Set 11 | cockburn town\nNo Rainfall\nNo Snowfall\nProcessing Record 31 of Set 11 | tilichiki\nNo Rainfall\nNo Snowfall\nProcessing Record 32 of Set 11 | ardabil\nNo Rainfall\nNo Snowfall\nProcessing Record 33 of Set 11 | gazli\nNo Rainfall\nNo Snowfall\nProcessing Record 34 of Set 11 | gondanglegi\nNo Rainfall\nNo Snowfall\nProcessing Record 35 of Set 11 | jalu\nNo Rainfall\nNo Snowfall\nProcessing Record 36 of Set 11 | chittaurgarh\nNo Rainfall\nNo Snowfall\nProcessing Record 37 of Set 11 | san luis\nNo Rainfall\nNo Snowfall\nProcessing Record 38 of Set 11 | yining\nNo Rainfall\nNo Snowfall\nProcessing Record 39 of Set 11 | longyearbyen\nNo Rainfall\nNo Snowfall\nProcessing Record 40 of Set 11 | gzhatsk\nCity not found. Skipping...\nNo Rainfall\nNo Snowfall\nProcessing Record 41 of Set 11 | zemio\nNo Snowfall\nProcessing Record 42 of Set 11 | farah\nNo Rainfall\nNo Snowfall\nProcessing Record 43 of Set 11 | galesong\nNo Rainfall\nNo Snowfall\nProcessing Record 44 of Set 11 | pokosnoye\nNo Rainfall\nNo Snowfall\nProcessing Record 45 of Set 11 | solnechnyy\nNo Snowfall\nProcessing Record 46 of Set 11 | portalegre\nNo Rainfall\nNo Snowfall\nProcessing Record 47 of Set 11 | pangnirtung\nNo Rainfall\nNo Snowfall\nProcessing Record 48 of Set 11 | hamina\nNo Rainfall\nNo Snowfall\nProcessing Record 49 of Set 11 | francistown\nNo Rainfall\nNo Snowfall\nProcessing Record 50 of Set 11 | batya\nNo Rainfall\nNo Snowfall\nProcessing Record 1 of Set 12 | nago\nNo Rainfall\nNo Snowfall\nProcessing Record 2 of Set 12 | aguas verdes\nNo Rainfall\nNo Snowfall\nProcessing Record 3 of Set 12 | healdsburg\nNo Rainfall\nNo Snowfall\nProcessing Record 4 of Set 12 | uwayl\nCity not found. Skipping...\nNo Rainfall\nNo Snowfall\nProcessing Record 5 of Set 12 | almaty\nNo Rainfall\nNo Snowfall\nProcessing Record 6 of Set 12 | mareeba\nNo Rainfall\nNo Snowfall\nProcessing Record 7 of Set 12 | flin flon\nNo Rainfall\nNo Snowfall\nProcessing Record 8 of Set 12 | mount gambier\nNo Rainfall\nNo Snowfall\nProcessing Record 9 of Set 12 | sisimiut\nNo Snowfall\nProcessing Record 10 of Set 12 | road town\nNo Rainfall\nNo Snowfall\nProcessing Record 11 of Set 12 | tiruchchendur\nNo Snowfall\nProcessing Record 12 of Set 12 | tripoli\nNo Rainfall\nNo Snowfall\nProcessing Record 13 of Set 12 | tchibanga\nNo Rainfall\nNo Snowfall\nProcessing Record 14 of Set 12 | shihezi\nNo Rainfall\nNo Snowfall\nProcessing Record 15 of Set 12 | bambanglipuro\nNo Rainfall\nNo Snowfall\nProcessing Record 16 of Set 12 | priargunsk\nNo Rainfall\nNo Snowfall\nProcessing Record 17 of Set 12 | kathmandu\nNo Rainfall\nNo Snowfall\nProcessing Record 18 of Set 12 | akyab\nNo Snowfall\nProcessing Record 19 of Set 12 | liverpool\nNo Snowfall\nProcessing Record 20 of Set 12 | college\nNo Rainfall\nNo Snowfall\nProcessing Record 21 of Set 12 | awjilah\nNo Rainfall\nNo Snowfall\nProcessing Record 22 of Set 12 | saldanha\nNo Rainfall\nNo Snowfall\nProcessing Record 23 of Set 12 | beruni\nCity not found. Skipping...\nNo Rainfall\nNo Snowfall\nProcessing Record 24 of Set 12 | adrar\nNo Rainfall\nNo Snowfall\nProcessing Record 25 of Set 12 | noumea\nNo Rainfall\nNo Snowfall\nProcessing Record 26 of Set 12 | alta floresta\nNo Rainfall\nNo Snowfall\nProcessing Record 27 of Set 12 | ambalavao\nNo Rainfall\nNo Snowfall\nProcessing Record 28 of Set 12 | daltenganj\nNo Rainfall\nNo Snowfall\nProcessing Record 29 of Set 12 | quatre cocos\nNo Rainfall\nNo Snowfall\nProcessing Record 30 of Set 12 | luderitz\nNo Rainfall\nNo Snowfall\nProcessing Record 31 of Set 12 | susanville\nNo Rainfall\nNo Snowfall\nProcessing Record 32 of Set 12 | havre-saint-pierre\nNo Rainfall\nNo Snowfall\nProcessing Record 33 of Set 12 | atlantic city\nNo Rainfall\nNo Snowfall\nProcessing Record 34 of Set 12 | saint-denis\nNo Rainfall\nNo Snowfall\nProcessing Record 35 of Set 12 | paramonga\nNo Rainfall\nNo Snowfall\nProcessing Record 36 of Set 12 | verkhoyansk\nNo Snowfall\nProcessing Record 37 of Set 12 | ndele\nNo Rainfall\nNo Snowfall\nProcessing Record 38 of Set 12 | nizwa\nNo Rainfall\nNo Snowfall\nProcessing Record 39 of Set 12 | los andes\nNo Rainfall\nNo Snowfall\nProcessing Record 40 of Set 12 | russell\nNo Rainfall\nNo Snowfall\nProcessing Record 41 of Set 12 | asau\nNo Rainfall\nNo Snowfall\nProcessing Record 42 of Set 12 | hailar\nNo Rainfall\nNo Snowfall\nProcessing Record 43 of Set 12 | valencia\nNo Rainfall\nNo Snowfall\nProcessing Record 44 of Set 12 | dianopolis\nCity not found. Skipping...\nNo Rainfall\nNo Snowfall\nProcessing Record 45 of Set 12 | grafton\nNo Rainfall\nNo Snowfall\nProcessing Record 46 of Set 12 | saint-joseph\nNo Rainfall\nNo Snowfall\nProcessing Record 47 of Set 12 | sept-iles\nNo Rainfall\nNo Snowfall\nProcessing Record 48 of Set 12 | pacific grove\nNo Rainfall\nNo Snowfall\nProcessing Record 49 of Set 12 | oussouye\nNo Rainfall\nNo Snowfall\nProcessing Record 50 of Set 12 | akureyri\nNo Rainfall\nNo Snowfall\nProcessing Record 1 of Set 13 | fukue\nNo Snowfall\nProcessing Record 2 of Set 13 | hattiesburg\nNo Snowfall\n-----------------------------\nData Retrieval Complete      \n-----------------------------\n"
    }
   ],
   "source": [
    "# Starting URL for Weather Map API Call.\n",
    "url = \"http://api.openweathermap.org/data/2.5/weather?units=Imperial&APPID=\" + weather_api_key\n",
    "\n",
    "# Create an empty list to hold the weather data.\n",
    "city_data = []\n",
    "\n",
    "# Print the beginning of the logging.\n",
    "print(\"Beginning Data Retrieval     \")\n",
    "print(\"-----------------------------\")\n",
    "\n",
    "# Create counters.\n",
    "record_count = 1\n",
    "set_count = 1\n",
    "\n",
    "# Loop through all the cities in the list.\n",
    "for i, city in enumerate(cities):\n",
    "\n",
    "    # Group cities in sets of 50 for logging purposes.\n",
    "    if (i % 50 == 0 and i >= 50):\n",
    "        set_count += 1\n",
    "        record_count = 1\n",
    "    # Create endpoint URL with each city.\n",
    "    city_url = url + \"&q=\" + city.replace(\" \",\"+\")\n",
    "\n",
    "    # Log the URL, record, and set numbers and the city.\n",
    "    print(f\"Processing Record {record_count} of Set {set_count} | {city}\")\n",
    "    # Add 1 to the record count.\n",
    "    record_count += 1\n",
    "\n",
    "# Run an API request for each of the cities.\n",
    "    try:\n",
    "        # Parse the JSON and retrieve data.\n",
    "        city_weather = requests.get(city_url).json()\n",
    "        # Parse out the needed data.\n",
    "        city_lat = city_weather[\"coord\"][\"lat\"]\n",
    "        city_lng = city_weather[\"coord\"][\"lon\"]\n",
    "        city_max_temp = city_weather[\"main\"][\"temp_max\"]\n",
    "        city_humidity = city_weather[\"main\"][\"humidity\"]\n",
    "        city_clouds = city_weather[\"clouds\"][\"all\"]\n",
    "        city_wind = city_weather[\"wind\"][\"speed\"]\n",
    "        city_country = city_weather[\"sys\"][\"country\"]\n",
    "        # Convert the date to ISO standard.\n",
    "        city_date = datetime.utcfromtimestamp(city_weather[\"dt\"]).strftime('%Y-%m-%d %H:%M:%S')\n",
    "    \n",
    "# If an error is experienced, skip the city.\n",
    "    except:\n",
    "        print(\"City not found. Skipping...\")\n",
    "        pass\n",
    "\n",
    "    try:\n",
    "        city_rain = city_weather[\"rain\"][\"1h\"]\n",
    "        \n",
    "    except:\n",
    "        city_rain = 0.0 \n",
    "        print(\"No Rainfall\")\n",
    "\n",
    "    try:\n",
    "        city_snow = city_weather[\"snow\"][\"1h\"]\n",
    "        \n",
    "    except:\n",
    "        city_snow = 0.0\n",
    "        print(\"No Snowfall\")\n",
    "\n",
    "    city_data.append({\"City\": city.title(),\n",
    "                          \"Lat\": city_lat,\n",
    "                          \"Lng\": city_lng,\n",
    "                          \"Max Temp\": city_max_temp,\n",
    "                          \"Humidity\": city_humidity,\n",
    "                          \"Cloudiness\": city_clouds,\n",
    "                          \"Wind Speed\": city_wind,\n",
    "                          \"Country\": city_country,\n",
    "                          \"Date\": city_date,\n",
    "                          \"Rainfall(1h)\":city_rain,\n",
    "                          \"Snowfall(1h)\":city_snow})\n",
    "\n",
    "# Indicate that Data Loading is complete.\n",
    "print(\"-----------------------------\")\n",
    "print(\"Data Retrieval Complete      \")\n",
    "print(\"-----------------------------\")"
   ]
  },
  {
   "cell_type": "code",
   "execution_count": 5,
   "metadata": {},
   "outputs": [
    {
     "output_type": "execute_result",
     "data": {
      "text/plain": "          City    Lat     Lng  Max Temp  Humidity  Cloudiness  Wind Speed  \\\n0     Lewiston  44.10  -70.21     73.99        93          75       23.04   \n1       Marzuq  14.40   46.47     85.98        30          86        5.79   \n2  Tuktoyaktuk  69.45 -133.04     37.40        93          90        8.05   \n3      Rungata  69.45 -133.04     37.40        93          90        8.05   \n4     Jiangkou  25.49  119.20     82.40        83         100       17.90   \n\n  Country                 Date  Rainfall(1h)  Snowfall(1h)  \n0      US  2020-07-08 21:55:56          8.13             0  \n1      YE  2020-07-08 21:55:26          0.00             0  \n2      CA  2020-07-08 21:55:56          0.00             0  \n3      CA  2020-07-08 21:55:56          0.00             0  \n4      CN  2020-07-08 21:55:56          0.26             0  ",
      "text/html": "<div>\n<style scoped>\n    .dataframe tbody tr th:only-of-type {\n        vertical-align: middle;\n    }\n\n    .dataframe tbody tr th {\n        vertical-align: top;\n    }\n\n    .dataframe thead th {\n        text-align: right;\n    }\n</style>\n<table border=\"1\" class=\"dataframe\">\n  <thead>\n    <tr style=\"text-align: right;\">\n      <th></th>\n      <th>City</th>\n      <th>Lat</th>\n      <th>Lng</th>\n      <th>Max Temp</th>\n      <th>Humidity</th>\n      <th>Cloudiness</th>\n      <th>Wind Speed</th>\n      <th>Country</th>\n      <th>Date</th>\n      <th>Rainfall(1h)</th>\n      <th>Snowfall(1h)</th>\n    </tr>\n  </thead>\n  <tbody>\n    <tr>\n      <th>0</th>\n      <td>Lewiston</td>\n      <td>44.10</td>\n      <td>-70.21</td>\n      <td>73.99</td>\n      <td>93</td>\n      <td>75</td>\n      <td>23.04</td>\n      <td>US</td>\n      <td>2020-07-08 21:55:56</td>\n      <td>8.13</td>\n      <td>0</td>\n    </tr>\n    <tr>\n      <th>1</th>\n      <td>Marzuq</td>\n      <td>14.40</td>\n      <td>46.47</td>\n      <td>85.98</td>\n      <td>30</td>\n      <td>86</td>\n      <td>5.79</td>\n      <td>YE</td>\n      <td>2020-07-08 21:55:26</td>\n      <td>0.00</td>\n      <td>0</td>\n    </tr>\n    <tr>\n      <th>2</th>\n      <td>Tuktoyaktuk</td>\n      <td>69.45</td>\n      <td>-133.04</td>\n      <td>37.40</td>\n      <td>93</td>\n      <td>90</td>\n      <td>8.05</td>\n      <td>CA</td>\n      <td>2020-07-08 21:55:56</td>\n      <td>0.00</td>\n      <td>0</td>\n    </tr>\n    <tr>\n      <th>3</th>\n      <td>Rungata</td>\n      <td>69.45</td>\n      <td>-133.04</td>\n      <td>37.40</td>\n      <td>93</td>\n      <td>90</td>\n      <td>8.05</td>\n      <td>CA</td>\n      <td>2020-07-08 21:55:56</td>\n      <td>0.00</td>\n      <td>0</td>\n    </tr>\n    <tr>\n      <th>4</th>\n      <td>Jiangkou</td>\n      <td>25.49</td>\n      <td>119.20</td>\n      <td>82.40</td>\n      <td>83</td>\n      <td>100</td>\n      <td>17.90</td>\n      <td>CN</td>\n      <td>2020-07-08 21:55:56</td>\n      <td>0.26</td>\n      <td>0</td>\n    </tr>\n  </tbody>\n</table>\n</div>"
     },
     "metadata": {},
     "execution_count": 5
    }
   ],
   "source": [
    "city_data_df = pd.DataFrame(city_data)\n",
    "city_data_df.head()"
   ]
  },
  {
   "cell_type": "code",
   "execution_count": 6,
   "metadata": {},
   "outputs": [],
   "source": [
    "# Create the output file (CSV).\n",
    "output_data_file = os.path.join(\"Data\",\"WeatherPy_Database.csv\")\n",
    "\n",
    "# Export the City_Data into a CSV.\n",
    "city_data_df.to_csv(output_data_file, index_label=\"City_ID\")"
   ]
  },
  {
   "cell_type": "code",
   "execution_count": null,
   "metadata": {},
   "outputs": [],
   "source": []
  }
 ],
 "metadata": {
  "language_info": {
   "codemirror_mode": {
    "name": "ipython",
    "version": 3
   },
   "file_extension": ".py",
   "mimetype": "text/x-python",
   "name": "python",
   "nbconvert_exporter": "python",
   "pygments_lexer": "ipython3",
   "version": "3.7.7-final"
  },
  "orig_nbformat": 2,
  "kernelspec": {
   "name": "python_defaultSpec_1594245309060",
   "display_name": "Python 3.7.7 64-bit ('PythonData': conda)"
  }
 },
 "nbformat": 4,
 "nbformat_minor": 2
}