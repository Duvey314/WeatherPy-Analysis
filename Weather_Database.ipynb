{
 "cells": [
  {
   "cell_type": "code",
   "execution_count": 2,
   "metadata": {},
   "outputs": [],
   "source": [
    "#import the random module\n",
    "import random\n",
    "\n",
    "#import pandas for df management\n",
    "import pandas as pd\n",
    "\n",
    "# import numpy\n",
    "import numpy as np\n",
    "\n",
    "#import matplotlib for plotting funtionality\n",
    "import matplotlib.pyplot as plt\n",
    "\n",
    "# Import linear regression from the SciPy stats module.\n",
    "from scipy.stats import linregress\n",
    "\n",
    "# import citipy to get closest city from lat long\n",
    "from citipy import citipy\n",
    "\n",
    "# import the datetime module from the datetime library\n",
    "from datetime import datetime\n",
    "\n",
    "# Import the API key.\n",
    "from config import weather_api_key\n",
    "\n",
    "# Import the requests library.\n",
    "import requests\n",
    "\n",
    "import os"
   ]
  },
  {
   "cell_type": "code",
   "execution_count": 3,
   "metadata": {},
   "outputs": [],
   "source": [
    "# create a set of random latitude and longitude combinations\n",
    "lats = np.random.uniform(low=-90.000, high=90.000, size=1500)\n",
    "lngs = np.random.uniform(low=-180.000, high=180.000, size=1500)\n",
    "lat_lngs = zip(lats, lngs)\n",
    "\n",
    "# add the latitudes and longitudes to a list\n",
    "coordinates = list(lat_lngs)"
   ]
  },
  {
   "cell_type": "code",
   "execution_count": 4,
   "metadata": {},
   "outputs": [
    {
     "output_type": "execute_result",
     "data": {
      "text/plain": "623"
     },
     "metadata": {},
     "execution_count": 4
    }
   ],
   "source": [
    "# Create a list for holding the cities.\n",
    "cities = []\n",
    "\n",
    "# Identify the nearest city for each latitude and longitude combination.\n",
    "for coordinate in coordinates:\n",
    "    city = citipy.nearest_city(coordinate[0], coordinate[1]).city_name\n",
    "    # If the city is unique, then we will add it to the cities list.\n",
    "    if city not in cities:\n",
    "        cities.append(city)\n",
    "        \n",
    "# Print the city count to confirm sufficient count.\n",
    "len(cities)"
   ]
  },
  {
   "cell_type": "code",
   "execution_count": 5,
   "metadata": {
    "tags": [
     "outputPrepend"
    ]
   },
   "outputs": [
    {
     "output_type": "stream",
     "name": "stdout",
     "text": "Snowfall\nProcessing Record 25 of Set 7 | bambous virieux\nNo Rainfall\nNo Snowfall\nProcessing Record 26 of Set 7 | kefalos\nNo Rainfall\nNo Snowfall\nProcessing Record 27 of Set 7 | sakaiminato\nNo Rainfall\nNo Snowfall\nProcessing Record 28 of Set 7 | jiddah\nCity not found. Skipping...\nNo Rainfall\nNo Snowfall\nProcessing Record 29 of Set 7 | labuhan\nNo Rainfall\nNo Snowfall\nProcessing Record 30 of Set 7 | hambantota\nNo Rainfall\nNo Snowfall\nProcessing Record 31 of Set 7 | pyay\nNo Rainfall\nNo Snowfall\nProcessing Record 32 of Set 7 | dolbeau\nCity not found. Skipping...\nNo Rainfall\nNo Snowfall\nProcessing Record 33 of Set 7 | loubomo\nNo Snowfall\nProcessing Record 34 of Set 7 | tall kayf\nNo Rainfall\nNo Snowfall\nProcessing Record 35 of Set 7 | phrai bung\nCity not found. Skipping...\nNo Rainfall\nNo Snowfall\nProcessing Record 36 of Set 7 | araouane\nNo Rainfall\nNo Snowfall\nProcessing Record 37 of Set 7 | gotsu\nNo Snowfall\nProcessing Record 38 of Set 7 | meulaboh\nNo Rainfall\nNo Snowfall\nProcessing Record 39 of Set 7 | port-de-paix\nCity not found. Skipping...\nNo Rainfall\nNo Snowfall\nProcessing Record 40 of Set 7 | batesville\nNo Snowfall\nProcessing Record 41 of Set 7 | torbay\nNo Rainfall\nNo Snowfall\nProcessing Record 42 of Set 7 | dzilam gonzalez\nNo Snowfall\nProcessing Record 43 of Set 7 | alyangula\nNo Rainfall\nNo Snowfall\nProcessing Record 44 of Set 7 | necochea\nNo Rainfall\nNo Snowfall\nProcessing Record 45 of Set 7 | cermik\nNo Rainfall\nNo Snowfall\nProcessing Record 46 of Set 7 | pontes e lacerda\nNo Rainfall\nNo Snowfall\nProcessing Record 47 of Set 7 | nuuk\nNo Rainfall\nNo Snowfall\nProcessing Record 48 of Set 7 | olhao\nNo Rainfall\nNo Snowfall\nProcessing Record 49 of Set 7 | ribeira grande\nNo Rainfall\nNo Snowfall\nProcessing Record 50 of Set 7 | ojinaga\nNo Rainfall\nNo Snowfall\nProcessing Record 1 of Set 8 | yashkul\nNo Rainfall\nNo Snowfall\nProcessing Record 2 of Set 8 | homer\nNo Rainfall\nNo Snowfall\nProcessing Record 3 of Set 8 | rohru\nNo Rainfall\nNo Snowfall\nProcessing Record 4 of Set 8 | yerbogachen\nNo Rainfall\nNo Snowfall\nProcessing Record 5 of Set 8 | saryshagan\nCity not found. Skipping...\nNo Rainfall\nNo Snowfall\nProcessing Record 6 of Set 8 | rio gallegos\nNo Rainfall\nNo Snowfall\nProcessing Record 7 of Set 8 | aitape\nNo Rainfall\nNo Snowfall\nProcessing Record 8 of Set 8 | korla\nNo Rainfall\nNo Snowfall\nProcessing Record 9 of Set 8 | longlac\nCity not found. Skipping...\nNo Rainfall\nNo Snowfall\nProcessing Record 10 of Set 8 | ponta delgada\nNo Rainfall\nNo Snowfall\nProcessing Record 11 of Set 8 | avera\nNo Rainfall\nNo Snowfall\nProcessing Record 12 of Set 8 | khani\nNo Rainfall\nNo Snowfall\nProcessing Record 13 of Set 8 | bilibino\nNo Snowfall\nProcessing Record 14 of Set 8 | dunedin\nNo Rainfall\nNo Snowfall\nProcessing Record 15 of Set 8 | shache\nNo Rainfall\nNo Snowfall\nProcessing Record 16 of Set 8 | cherskiy\nNo Rainfall\nNo Snowfall\nProcessing Record 17 of Set 8 | magadan\nNo Snowfall\nProcessing Record 18 of Set 8 | sambava\nNo Snowfall\nProcessing Record 19 of Set 8 | mweka\nNo Rainfall\nNo Snowfall\nProcessing Record 20 of Set 8 | lokosovo\nNo Rainfall\nNo Snowfall\nProcessing Record 21 of Set 8 | pevek\nNo Snowfall\nProcessing Record 22 of Set 8 | dauriya\nNo Rainfall\nNo Snowfall\nProcessing Record 23 of Set 8 | ejido hermosillo\nNo Rainfall\nNo Snowfall\nProcessing Record 24 of Set 8 | butia\nNo Rainfall\nNo Snowfall\nProcessing Record 25 of Set 8 | uppsala\nNo Rainfall\nNo Snowfall\nProcessing Record 26 of Set 8 | whitianga\nNo Rainfall\nNo Snowfall\nProcessing Record 27 of Set 8 | mortka\nNo Rainfall\nNo Snowfall\nProcessing Record 28 of Set 8 | yamethin\nNo Rainfall\nNo Snowfall\nProcessing Record 29 of Set 8 | balimo\nCity not found. Skipping...\nNo Rainfall\nNo Snowfall\nProcessing Record 30 of Set 8 | deer lake\nNo Rainfall\nNo Snowfall\nProcessing Record 31 of Set 8 | sioux lookout\nNo Rainfall\nNo Snowfall\nProcessing Record 32 of Set 8 | saint anthony\nNo Rainfall\nNo Snowfall\nProcessing Record 33 of Set 8 | duluth\nNo Rainfall\nNo Snowfall\nProcessing Record 34 of Set 8 | saint-francois\nNo Rainfall\nNo Snowfall\nProcessing Record 35 of Set 8 | astana\nNo Rainfall\nNo Snowfall\nProcessing Record 36 of Set 8 | kusti\nNo Rainfall\nNo Snowfall\nProcessing Record 37 of Set 8 | sorvag\nCity not found. Skipping...\nNo Rainfall\nNo Snowfall\nProcessing Record 38 of Set 8 | helong\nNo Rainfall\nNo Snowfall\nProcessing Record 39 of Set 8 | aklavik\nNo Rainfall\nNo Snowfall\nProcessing Record 40 of Set 8 | arlit\nNo Rainfall\nNo Snowfall\nProcessing Record 41 of Set 8 | oksfjord\nNo Rainfall\nNo Snowfall\nProcessing Record 42 of Set 8 | pathein\nNo Rainfall\nNo Snowfall\nProcessing Record 43 of Set 8 | sauteurs\nNo Rainfall\nNo Snowfall\nProcessing Record 44 of Set 8 | bukit bakri\nCity not found. Skipping...\nNo Rainfall\nNo Snowfall\nProcessing Record 45 of Set 8 | manaia\nNo Rainfall\nNo Snowfall\nProcessing Record 46 of Set 8 | dingle\nNo Rainfall\nNo Snowfall\nProcessing Record 47 of Set 8 | vostok\nNo Rainfall\nNo Snowfall\nProcessing Record 48 of Set 8 | lososina\nNo Rainfall\nNo Snowfall\nProcessing Record 49 of Set 8 | fallon\nNo Rainfall\nNo Snowfall\nProcessing Record 50 of Set 8 | oussouye\nNo Rainfall\nNo Snowfall\nProcessing Record 1 of Set 9 | gorin\nNo Rainfall\nNo Snowfall\nProcessing Record 2 of Set 9 | kruishoutem\nNo Rainfall\nNo Snowfall\nProcessing Record 3 of Set 9 | narasannapeta\nNo Snowfall\nProcessing Record 4 of Set 9 | burnie\nNo Rainfall\nNo Snowfall\nProcessing Record 5 of Set 9 | airai\nNo Rainfall\nNo Snowfall\nProcessing Record 6 of Set 9 | grand river south east\nCity not found. Skipping...\nNo Rainfall\nNo Snowfall\nProcessing Record 7 of Set 9 | hashtrud\nNo Rainfall\nNo Snowfall\nProcessing Record 8 of Set 9 | selma\nNo Rainfall\nNo Snowfall\nProcessing Record 9 of Set 9 | namatanai\nNo Snowfall\nProcessing Record 10 of Set 9 | nizhneyansk\nCity not found. Skipping...\nNo Rainfall\nNo Snowfall\nProcessing Record 11 of Set 9 | gorontalo\nNo Rainfall\nNo Snowfall\nProcessing Record 12 of Set 9 | guanare\nNo Rainfall\nNo Snowfall\nProcessing Record 13 of Set 9 | boende\nNo Rainfall\nNo Snowfall\nProcessing Record 14 of Set 9 | sorland\nNo Rainfall\nNo Snowfall\nProcessing Record 15 of Set 9 | polewali\nNo Rainfall\nNo Snowfall\nProcessing Record 16 of Set 9 | humberto de campos\nNo Rainfall\nNo Snowfall\nProcessing Record 17 of Set 9 | mount gambier\nNo Rainfall\nNo Snowfall\nProcessing Record 18 of Set 9 | eirunepe\nNo Rainfall\nNo Snowfall\nProcessing Record 19 of Set 9 | hays\nNo Rainfall\nNo Snowfall\nProcessing Record 20 of Set 9 | maningrida\nNo Rainfall\nNo Snowfall\nProcessing Record 21 of Set 9 | middle island\nNo Rainfall\nNo Snowfall\nProcessing Record 22 of Set 9 | vreed en hoop\nCity not found. Skipping...\nNo Rainfall\nNo Snowfall\nProcessing Record 23 of Set 9 | vidalia\nNo Rainfall\nNo Snowfall\nProcessing Record 24 of Set 9 | dongsheng\nNo Rainfall\nNo Snowfall\nProcessing Record 25 of Set 9 | peniche\nNo Rainfall\nNo Snowfall\nProcessing Record 26 of Set 9 | shimoda\nNo Rainfall\nNo Snowfall\nProcessing Record 27 of Set 9 | suntar\nNo Rainfall\nNo Snowfall\nProcessing Record 28 of Set 9 | tefe\nNo Rainfall\nNo Snowfall\nProcessing Record 29 of Set 9 | pokosnoye\nNo Rainfall\nNo Snowfall\nProcessing Record 30 of Set 9 | kondoa\nNo Rainfall\nNo Snowfall\nProcessing Record 31 of Set 9 | valparaiso\nNo Rainfall\nNo Snowfall\nProcessing Record 32 of Set 9 | miles city\nNo Rainfall\nNo Snowfall\nProcessing Record 33 of Set 9 | gizo\nNo Rainfall\nNo Snowfall\nProcessing Record 34 of Set 9 | okoneshnikovo\nNo Rainfall\nNo Snowfall\nProcessing Record 35 of Set 9 | hay river\nNo Rainfall\nNo Snowfall\nProcessing Record 36 of Set 9 | roccastrada\nNo Rainfall\nNo Snowfall\nProcessing Record 37 of Set 9 | mayumba\nNo Rainfall\nNo Snowfall\nProcessing Record 38 of Set 9 | bien hoa\nNo Rainfall\nNo Snowfall\nProcessing Record 39 of Set 9 | sao filipe\nNo Rainfall\nNo Snowfall\nProcessing Record 40 of Set 9 | aguimes\nNo Rainfall\nNo Snowfall\nProcessing Record 41 of Set 9 | muros\nNo Rainfall\nNo Snowfall\nProcessing Record 42 of Set 9 | gravelbourg\nNo Rainfall\nNo Snowfall\nProcessing Record 43 of Set 9 | babu\nNo Snowfall\nProcessing Record 44 of Set 9 | la sarre\nNo Snowfall\nProcessing Record 45 of Set 9 | ullapool\nNo Snowfall\nProcessing Record 46 of Set 9 | tecpan\nNo Rainfall\nNo Snowfall\nProcessing Record 47 of Set 9 | morondava\nNo Rainfall\nNo Snowfall\nProcessing Record 48 of Set 9 | kadykchan\nCity not found. Skipping...\nNo Rainfall\nNo Snowfall\nProcessing Record 49 of Set 9 | camopi\nNo Snowfall\nProcessing Record 50 of Set 9 | registro\nNo Rainfall\nNo Snowfall\nProcessing Record 1 of Set 10 | rolla\nNo Rainfall\nNo Snowfall\nProcessing Record 2 of Set 10 | shakhovskaya\nNo Rainfall\nNo Snowfall\nProcessing Record 3 of Set 10 | port-cartier\nNo Rainfall\nNo Snowfall\nProcessing Record 4 of Set 10 | domoni\nNo Rainfall\nNo Snowfall\nProcessing Record 5 of Set 10 | dagana\nNo Rainfall\nNo Snowfall\nProcessing Record 6 of Set 10 | nisia floresta\nNo Rainfall\nNo Snowfall\nProcessing Record 7 of Set 10 | mayya\nNo Rainfall\nNo Snowfall\nProcessing Record 8 of Set 10 | rakiv lis\nNo Rainfall\nNo Snowfall\nProcessing Record 9 of Set 10 | camrose\nNo Rainfall\nNo Snowfall\nProcessing Record 10 of Set 10 | bismil\nNo Rainfall\nNo Snowfall\nProcessing Record 11 of Set 10 | los llanos de aridane\nNo Rainfall\nNo Snowfall\nProcessing Record 12 of Set 10 | camana\nNo Rainfall\nNo Snowfall\nProcessing Record 13 of Set 10 | grand-santi\nNo Snowfall\nProcessing Record 14 of Set 10 | sangod\nNo Rainfall\nNo Snowfall\nProcessing Record 15 of Set 10 | huarmey\nNo Rainfall\nNo Snowfall\nProcessing Record 16 of Set 10 | padilla\nNo Rainfall\nNo Snowfall\nProcessing Record 17 of Set 10 | uribia\nNo Rainfall\nNo Snowfall\nProcessing Record 18 of Set 10 | carinhanha\nNo Rainfall\nNo Snowfall\nProcessing Record 19 of Set 10 | husavik\nNo Rainfall\nNo Snowfall\nProcessing Record 20 of Set 10 | prado\nNo Rainfall\nNo Snowfall\nProcessing Record 21 of Set 10 | genhe\nNo Rainfall\nNo Snowfall\nProcessing Record 22 of Set 10 | shieli\nNo Rainfall\nNo Snowfall\nProcessing Record 23 of Set 10 | vuktyl\nNo Rainfall\nNo Snowfall\nProcessing Record 24 of Set 10 | kirakira\nNo Snowfall\nProcessing Record 25 of Set 10 | pinawa\nNo Snowfall\nProcessing Record 26 of Set 10 | marinette\nNo Rainfall\nNo Snowfall\nProcessing Record 27 of Set 10 | san carlos de bariloche\nNo Rainfall\nNo Snowfall\nProcessing Record 28 of Set 10 | serabu\nNo Snowfall\nProcessing Record 29 of Set 10 | edson\nNo Rainfall\nNo Snowfall\nProcessing Record 30 of Set 10 | port hedland\nNo Rainfall\nNo Snowfall\nProcessing Record 31 of Set 10 | comodoro rivadavia\nNo Rainfall\nNo Snowfall\nProcessing Record 32 of Set 10 | vaitupu\nCity not found. Skipping...\nNo Rainfall\nNo Snowfall\nProcessing Record 33 of Set 10 | calama\nNo Rainfall\nNo Snowfall\nProcessing Record 34 of Set 10 | marawi\nNo Rainfall\nNo Snowfall\nProcessing Record 35 of Set 10 | ixtapa\nNo Rainfall\nNo Snowfall\nProcessing Record 36 of Set 10 | vilhena\nNo Rainfall\nNo Snowfall\nProcessing Record 37 of Set 10 | port augusta\nNo Rainfall\nNo Snowfall\nProcessing Record 38 of Set 10 | saint-joseph\nNo Rainfall\nNo Snowfall\nProcessing Record 39 of Set 10 | culebra\nNo Rainfall\nNo Snowfall\nProcessing Record 40 of Set 10 | krasnoyarsk-66\nCity not found. Skipping...\nNo Rainfall\nNo Snowfall\nProcessing Record 41 of Set 10 | nishihara\nNo Rainfall\nNo Snowfall\nProcessing Record 42 of Set 10 | londoko\nNo Rainfall\nNo Snowfall\nProcessing Record 43 of Set 10 | inhambane\nNo Rainfall\nNo Snowfall\nProcessing Record 44 of Set 10 | seminole\nNo Rainfall\nNo Snowfall\nProcessing Record 45 of Set 10 | urumqi\nNo Rainfall\nNo Snowfall\nProcessing Record 46 of Set 10 | bonoua\nNo Rainfall\nNo Snowfall\nProcessing Record 47 of Set 10 | fereydunshahr\nNo Rainfall\nNo Snowfall\nProcessing Record 48 of Set 10 | abalak\nNo Rainfall\nNo Snowfall\nProcessing Record 49 of Set 10 | upington\nNo Rainfall\nNo Snowfall\nProcessing Record 50 of Set 10 | kingsville\nNo Rainfall\nNo Snowfall\nProcessing Record 1 of Set 11 | buqayq\nCity not found. Skipping...\nNo Rainfall\nNo Snowfall\nProcessing Record 2 of Set 11 | waddan\nNo Rainfall\nNo Snowfall\nProcessing Record 3 of Set 11 | lerwick\nNo Rainfall\nNo Snowfall\nProcessing Record 4 of Set 11 | sitka\nNo Snowfall\nProcessing Record 5 of Set 11 | palauig\nNo Rainfall\nNo Snowfall\nProcessing Record 6 of Set 11 | nokaneng\nNo Rainfall\nNo Snowfall\nProcessing Record 7 of Set 11 | goya\nNo Rainfall\nNo Snowfall\nProcessing Record 8 of Set 11 | oytal\nNo Rainfall\nNo Snowfall\nProcessing Record 9 of Set 11 | katangli\nNo Snowfall\nProcessing Record 10 of Set 11 | manaus\nNo Rainfall\nNo Snowfall\nProcessing Record 11 of Set 11 | marcona\nCity not found. Skipping...\nNo Rainfall\nNo Snowfall\nProcessing Record 12 of Set 11 | grootfontein\nNo Rainfall\nNo Snowfall\nProcessing Record 13 of Set 11 | medea\nNo Rainfall\nNo Snowfall\nProcessing Record 14 of Set 11 | tumannyy\nCity not found. Skipping...\nNo Rainfall\nNo Snowfall\nProcessing Record 15 of Set 11 | pitogo\nNo Rainfall\nNo Snowfall\nProcessing Record 16 of Set 11 | sao joao da barra\nNo Rainfall\nNo Snowfall\nProcessing Record 17 of Set 11 | huilong\nNo Rainfall\nNo Snowfall\nProcessing Record 18 of Set 11 | biak\nNo Rainfall\nNo Snowfall\nProcessing Record 19 of Set 11 | acuexcomac\nNo Rainfall\nNo Snowfall\nProcessing Record 20 of Set 11 | lincoln\nNo Snowfall\nProcessing Record 21 of Set 11 | leiyang\nNo Snowfall\nProcessing Record 22 of Set 11 | manaure\nNo Rainfall\nNo Snowfall\nProcessing Record 23 of Set 11 | indramayu\nNo Rainfall\nNo Snowfall\nProcessing Record 24 of Set 11 | olinda\nNo Rainfall\nNo Snowfall\nProcessing Record 25 of Set 11 | uyo\nNo Snowfall\nProcessing Record 26 of Set 11 | richard toll\nCity not found. Skipping...\nNo Rainfall\nNo Snowfall\nProcessing Record 27 of Set 11 | chingirlau\nNo Rainfall\nNo Snowfall\nProcessing Record 28 of Set 11 | ola\nNo Snowfall\nProcessing Record 29 of Set 11 | hihifo\nCity not found. Skipping...\nNo Rainfall\nNo Snowfall\nProcessing Record 30 of Set 11 | kuznechikha\nNo Rainfall\nNo Snowfall\nProcessing Record 31 of Set 11 | porto novo\nNo Rainfall\nNo Snowfall\nProcessing Record 32 of Set 11 | nantucket\nNo Rainfall\nNo Snowfall\nProcessing Record 33 of Set 11 | alice springs\nNo Rainfall\nNo Snowfall\nProcessing Record 34 of Set 11 | atherton\nNo Rainfall\nNo Snowfall\nProcessing Record 35 of Set 11 | kargat\nNo Snowfall\nProcessing Record 36 of Set 11 | tindivanam\nNo Snowfall\nProcessing Record 37 of Set 11 | riyadh\nNo Rainfall\nNo Snowfall\nProcessing Record 38 of Set 11 | nata\nNo Rainfall\nNo Snowfall\nProcessing Record 39 of Set 11 | luderitz\nNo Rainfall\nNo Snowfall\nProcessing Record 40 of Set 11 | novoanninskiy\nNo Rainfall\nNo Snowfall\nProcessing Record 41 of Set 11 | tornio\nNo Rainfall\nNo Snowfall\nProcessing Record 42 of Set 11 | svetlogorsk\nNo Rainfall\nNo Snowfall\nProcessing Record 43 of Set 11 | brusque\nNo Rainfall\nNo Snowfall\nProcessing Record 44 of Set 11 | viedma\nNo Snowfall\nProcessing Record 45 of Set 11 | norman wells\nNo Rainfall\nNo Snowfall\nProcessing Record 46 of Set 11 | san patricio\nNo Rainfall\nNo Snowfall\nProcessing Record 47 of Set 11 | leshukonskoye\nNo Rainfall\nNo Snowfall\nProcessing Record 48 of Set 11 | stornoway\nNo Rainfall\nNo Snowfall\nProcessing Record 49 of Set 11 | cherbourg\nNo Rainfall\nNo Snowfall\nProcessing Record 50 of Set 11 | teguldet\nNo Rainfall\nNo Snowfall\nProcessing Record 1 of Set 12 | ust-ishim\nNo Rainfall\nNo Snowfall\nProcessing Record 2 of Set 12 | naron\nNo Rainfall\nNo Snowfall\nProcessing Record 3 of Set 12 | nogliki\nNo Snowfall\nProcessing Record 4 of Set 12 | bontang\nNo Rainfall\nNo Snowfall\nProcessing Record 5 of Set 12 | skelleftea\nNo Snowfall\nProcessing Record 6 of Set 12 | palmer\nNo Rainfall\nNo Snowfall\nProcessing Record 7 of Set 12 | salto\nNo Rainfall\nNo Snowfall\nProcessing Record 8 of Set 12 | aksay\nNo Rainfall\nNo Snowfall\nProcessing Record 9 of Set 12 | evensk\nNo Rainfall\nNo Snowfall\nProcessing Record 10 of Set 12 | port lincoln\nNo Snowfall\nProcessing Record 11 of Set 12 | chemal\nNo Rainfall\nNo Snowfall\nProcessing Record 12 of Set 12 | koubia\nNo Rainfall\nNo Snowfall\nProcessing Record 13 of Set 12 | maarianhamina\nNo Rainfall\nNo Snowfall\nProcessing Record 14 of Set 12 | oktyabrskoye\nNo Snowfall\nProcessing Record 15 of Set 12 | sainte-suzanne\nNo Rainfall\nNo Snowfall\nProcessing Record 16 of Set 12 | gulshat\nCity not found. Skipping...\nNo Rainfall\nNo Snowfall\nProcessing Record 17 of Set 12 | saryg-sep\nNo Rainfall\nNo Snowfall\nProcessing Record 18 of Set 12 | bassila\nNo Snowfall\nProcessing Record 19 of Set 12 | pahrump\nNo Rainfall\nNo Snowfall\nProcessing Record 20 of Set 12 | tuzah\nNo Rainfall\nNo Snowfall\nProcessing Record 21 of Set 12 | bengkulu\nNo Rainfall\nNo Snowfall\nProcessing Record 22 of Set 12 | yeppoon\nNo Snowfall\nProcessing Record 23 of Set 12 | babanusah\nCity not found. Skipping...\nNo Rainfall\nNo Snowfall\nProcessing Record 24 of Set 12 | andenes\nNo Rainfall\nNo Snowfall\nProcessing Record 25 of Set 12 | rio grande\nNo Rainfall\nNo Snowfall\nProcessing Record 26 of Set 12 | umm kaddadah\nNo Rainfall\nNo Snowfall\nProcessing Record 27 of Set 12 | jibuti\nNo Rainfall\nNo Snowfall\nProcessing Record 28 of Set 12 | dubbo\nNo Rainfall\nNo Snowfall\nProcessing Record 29 of Set 12 | talcahuano\nNo Rainfall\nNo Snowfall\nProcessing Record 30 of Set 12 | brae\nNo Rainfall\nNo Snowfall\nProcessing Record 31 of Set 12 | phayao\nNo Rainfall\nNo Snowfall\nProcessing Record 32 of Set 12 | ormond beach\nNo Rainfall\nNo Snowfall\nProcessing Record 33 of Set 12 | new castle\nNo Rainfall\nNo Snowfall\nProcessing Record 34 of Set 12 | buchanan\nNo Rainfall\nNo Snowfall\nProcessing Record 35 of Set 12 | bodden town\nNo Rainfall\nNo Snowfall\nProcessing Record 36 of Set 12 | malwan\nCity not found. Skipping...\nNo Rainfall\nNo Snowfall\nProcessing Record 37 of Set 12 | tombouctou\nNo Rainfall\nNo Snowfall\nProcessing Record 38 of Set 12 | trincomalee\nNo Rainfall\nNo Snowfall\nProcessing Record 39 of Set 12 | lata\nNo Rainfall\nNo Snowfall\nProcessing Record 40 of Set 12 | flin flon\nNo Rainfall\nNo Snowfall\nProcessing Record 41 of Set 12 | portobelo\nNo Snowfall\nProcessing Record 42 of Set 12 | srednekolymsk\nNo Rainfall\nNo Snowfall\nProcessing Record 43 of Set 12 | visegrad\nNo Rainfall\nNo Snowfall\nProcessing Record 44 of Set 12 | raga\nNo Rainfall\nNo Snowfall\nProcessing Record 45 of Set 12 | denizli\nNo Rainfall\nNo Snowfall\nProcessing Record 46 of Set 12 | sangmelima\nNo Snowfall\nProcessing Record 47 of Set 12 | huntington\nNo Rainfall\nNo Snowfall\nProcessing Record 48 of Set 12 | binzhou\nNo Rainfall\nNo Snowfall\nProcessing Record 49 of Set 12 | tautira\nNo Rainfall\nNo Snowfall\nProcessing Record 50 of Set 12 | karpathos\nNo Rainfall\nNo Snowfall\nProcessing Record 1 of Set 13 | talnakh\nNo Rainfall\nNo Snowfall\nProcessing Record 2 of Set 13 | yumen\nNo Rainfall\nNo Snowfall\nProcessing Record 3 of Set 13 | kota bahru\nNo Rainfall\nNo Snowfall\nProcessing Record 4 of Set 13 | kuantan\nNo Rainfall\nNo Snowfall\nProcessing Record 5 of Set 13 | bid\nCity not found. Skipping...\nNo Rainfall\nNo Snowfall\nProcessing Record 6 of Set 13 | sechura\nNo Rainfall\nNo Snowfall\nProcessing Record 7 of Set 13 | kongsvinger\nNo Rainfall\nNo Snowfall\nProcessing Record 8 of Set 13 | barre\nNo Rainfall\nNo Snowfall\nProcessing Record 9 of Set 13 | gawler\nNo Rainfall\nNo Snowfall\nProcessing Record 10 of Set 13 | okhotsk\nNo Rainfall\nNo Snowfall\nProcessing Record 11 of Set 13 | sterling\nNo Rainfall\nNo Snowfall\nProcessing Record 12 of Set 13 | banda aceh\nNo Rainfall\nNo Snowfall\nProcessing Record 13 of Set 13 | deputatskiy\nNo Rainfall\nNo Snowfall\nProcessing Record 14 of Set 13 | ahipara\nNo Rainfall\nNo Snowfall\nProcessing Record 15 of Set 13 | warrnambool\nNo Rainfall\nNo Snowfall\nProcessing Record 16 of Set 13 | lolua\nCity not found. Skipping...\nNo Rainfall\nNo Snowfall\nProcessing Record 17 of Set 13 | baculin\nNo Rainfall\nNo Snowfall\nProcessing Record 18 of Set 13 | kanniyakumari\nNo Rainfall\nNo Snowfall\nProcessing Record 19 of Set 13 | lorengau\nNo Rainfall\nNo Snowfall\nProcessing Record 20 of Set 13 | charters towers\nNo Rainfall\nNo Snowfall\nProcessing Record 21 of Set 13 | almenara\nNo Rainfall\nNo Snowfall\nProcessing Record 22 of Set 13 | phan thiet\nNo Rainfall\nNo Snowfall\nProcessing Record 23 of Set 13 | papara\nNo Rainfall\nNo Snowfall\n-----------------------------\nData Retrieval Complete      \n-----------------------------\n"
    }
   ],
   "source": [
    "# Starting URL for Weather Map API Call.\n",
    "url = \"http://api.openweathermap.org/data/2.5/weather?units=Imperial&APPID=\" + weather_api_key\n",
    "\n",
    "# Create an empty list to hold the weather data.\n",
    "city_data = []\n",
    "\n",
    "# Print the beginning of the logging.\n",
    "print(\"Beginning Data Retrieval     \")\n",
    "print(\"-----------------------------\")\n",
    "\n",
    "# Create counters.\n",
    "record_count = 1\n",
    "set_count = 1\n",
    "\n",
    "# Loop through all the cities in the list.\n",
    "for i, city in enumerate(cities):\n",
    "\n",
    "    # Group cities in sets of 50 for logging purposes.\n",
    "    if (i % 50 == 0 and i >= 50):\n",
    "        set_count += 1\n",
    "        record_count = 1\n",
    "    # Create endpoint URL with each city.\n",
    "    city_url = url + \"&q=\" + city.replace(\" \",\"+\")\n",
    "\n",
    "    # Log the URL, record, and set numbers and the city.\n",
    "    print(f\"Processing Record {record_count} of Set {set_count} | {city}\")\n",
    "    # Add 1 to the record count.\n",
    "    record_count += 1\n",
    "\n",
    "# Run an API request for each of the cities.\n",
    "    try:\n",
    "        # Parse the JSON and retrieve data.\n",
    "        city_weather = requests.get(city_url).json()\n",
    "        # Parse out the needed data.\n",
    "        city_lat = city_weather[\"coord\"][\"lat\"]\n",
    "        city_lng = city_weather[\"coord\"][\"lon\"]\n",
    "        city_max_temp = city_weather[\"main\"][\"temp_max\"]\n",
    "        city_humidity = city_weather[\"main\"][\"humidity\"]\n",
    "        city_clouds = city_weather[\"clouds\"][\"all\"]\n",
    "        city_wind = city_weather[\"wind\"][\"speed\"]\n",
    "        city_country = city_weather[\"sys\"][\"country\"]\n",
    "        city_description = city_weather[\"weather\"][0][\"description\"]\n",
    "\n",
    "        # Convert the date to ISO standard.\n",
    "        city_date = datetime.utcfromtimestamp(city_weather[\"dt\"]).strftime('%Y-%m-%d %H:%M:%S')\n",
    "    \n",
    "# If an error is experienced, skip the city.\n",
    "    except:\n",
    "        print(\"City not found. Skipping...\")\n",
    "        pass\n",
    "\n",
    "    try:\n",
    "        city_rain = city_weather[\"rain\"][\"1h\"]\n",
    "        \n",
    "    except:\n",
    "        city_rain = 0.0 \n",
    "        print(\"No Rainfall\")\n",
    "\n",
    "    try:\n",
    "        city_snow = city_weather[\"snow\"][\"1h\"]\n",
    "        \n",
    "    except:\n",
    "        city_snow = 0.0\n",
    "        print(\"No Snowfall\")\n",
    "\n",
    "    city_data.append({\"City\": city.title(),\n",
    "                          \"Lat\": city_lat,\n",
    "                          \"Lng\": city_lng,\n",
    "                          \"Max Temp\": city_max_temp,\n",
    "                          \"Humidity\": city_humidity,\n",
    "                          \"Cloudiness\": city_clouds,\n",
    "                          \"Wind Speed\": city_wind,\n",
    "                          \"Description\": city_description,\n",
    "                          \"Country\": city_country,\n",
    "                          \"Date\": city_date,\n",
    "                          \"Rainfall(1h)\":city_rain,\n",
    "                          \"Snowfall(1h)\":city_snow})\n",
    "\n",
    "# Indicate that Data Loading is complete.\n",
    "print(\"-----------------------------\")\n",
    "print(\"Data Retrieval Complete      \")\n",
    "print(\"-----------------------------\")"
   ]
  },
  {
   "cell_type": "code",
   "execution_count": 6,
   "metadata": {},
   "outputs": [
    {
     "output_type": "execute_result",
     "data": {
      "text/plain": "           City    Lat     Lng  Max Temp  Humidity  Cloudiness  Wind Speed  \\\n0       Fortuna  40.60 -124.16     70.00        72           1       14.99   \n1     Grindavik  63.84  -22.43     51.80        71          75       11.41   \n2  Komsomolskiy  40.43   71.72     77.00        33         100        6.93   \n3       Mataura -46.19  168.86     42.06        92         100        5.06   \n4   San Ignacio  17.16  -89.07     93.20        56          40        6.93   \n\n        Description Country                 Date  Rainfall(1h)  Snowfall(1h)  \n0         clear sky      US  2020-07-09 21:13:14          0.00           0.0  \n1     broken clouds      IS  2020-07-09 21:11:38          0.00           0.0  \n2   overcast clouds      UZ  2020-07-09 21:13:15          0.00           0.0  \n3        light rain      NZ  2020-07-09 21:13:06          0.13           0.0  \n4  scattered clouds      BZ  2020-07-09 21:13:15          0.00           0.0  ",
      "text/html": "<div>\n<style scoped>\n    .dataframe tbody tr th:only-of-type {\n        vertical-align: middle;\n    }\n\n    .dataframe tbody tr th {\n        vertical-align: top;\n    }\n\n    .dataframe thead th {\n        text-align: right;\n    }\n</style>\n<table border=\"1\" class=\"dataframe\">\n  <thead>\n    <tr style=\"text-align: right;\">\n      <th></th>\n      <th>City</th>\n      <th>Lat</th>\n      <th>Lng</th>\n      <th>Max Temp</th>\n      <th>Humidity</th>\n      <th>Cloudiness</th>\n      <th>Wind Speed</th>\n      <th>Description</th>\n      <th>Country</th>\n      <th>Date</th>\n      <th>Rainfall(1h)</th>\n      <th>Snowfall(1h)</th>\n    </tr>\n  </thead>\n  <tbody>\n    <tr>\n      <th>0</th>\n      <td>Fortuna</td>\n      <td>40.60</td>\n      <td>-124.16</td>\n      <td>70.00</td>\n      <td>72</td>\n      <td>1</td>\n      <td>14.99</td>\n      <td>clear sky</td>\n      <td>US</td>\n      <td>2020-07-09 21:13:14</td>\n      <td>0.00</td>\n      <td>0.0</td>\n    </tr>\n    <tr>\n      <th>1</th>\n      <td>Grindavik</td>\n      <td>63.84</td>\n      <td>-22.43</td>\n      <td>51.80</td>\n      <td>71</td>\n      <td>75</td>\n      <td>11.41</td>\n      <td>broken clouds</td>\n      <td>IS</td>\n      <td>2020-07-09 21:11:38</td>\n      <td>0.00</td>\n      <td>0.0</td>\n    </tr>\n    <tr>\n      <th>2</th>\n      <td>Komsomolskiy</td>\n      <td>40.43</td>\n      <td>71.72</td>\n      <td>77.00</td>\n      <td>33</td>\n      <td>100</td>\n      <td>6.93</td>\n      <td>overcast clouds</td>\n      <td>UZ</td>\n      <td>2020-07-09 21:13:15</td>\n      <td>0.00</td>\n      <td>0.0</td>\n    </tr>\n    <tr>\n      <th>3</th>\n      <td>Mataura</td>\n      <td>-46.19</td>\n      <td>168.86</td>\n      <td>42.06</td>\n      <td>92</td>\n      <td>100</td>\n      <td>5.06</td>\n      <td>light rain</td>\n      <td>NZ</td>\n      <td>2020-07-09 21:13:06</td>\n      <td>0.13</td>\n      <td>0.0</td>\n    </tr>\n    <tr>\n      <th>4</th>\n      <td>San Ignacio</td>\n      <td>17.16</td>\n      <td>-89.07</td>\n      <td>93.20</td>\n      <td>56</td>\n      <td>40</td>\n      <td>6.93</td>\n      <td>scattered clouds</td>\n      <td>BZ</td>\n      <td>2020-07-09 21:13:15</td>\n      <td>0.00</td>\n      <td>0.0</td>\n    </tr>\n  </tbody>\n</table>\n</div>"
     },
     "metadata": {},
     "execution_count": 6
    }
   ],
   "source": [
    "city_data_df = pd.DataFrame(city_data)\n",
    "city_data_df.head()"
   ]
  },
  {
   "cell_type": "code",
   "execution_count": 7,
   "metadata": {},
   "outputs": [],
   "source": [
    "# Create the output file (CSV).\n",
    "output_data_file = os.path.join(\"Data\",\"WeatherPy_Database.csv\")\n",
    "\n",
    "# Export the City_Data into a CSV.\n",
    "city_data_df.to_csv(output_data_file, index_label=\"City_ID\")"
   ]
  },
  {
   "cell_type": "code",
   "execution_count": null,
   "metadata": {},
   "outputs": [],
   "source": []
  }
 ],
 "metadata": {
  "language_info": {
   "codemirror_mode": {
    "name": "ipython",
    "version": 3
   },
   "file_extension": ".py",
   "mimetype": "text/x-python",
   "name": "python",
   "nbconvert_exporter": "python",
   "pygments_lexer": "ipython3",
   "version": "3.7.7-final"
  },
  "orig_nbformat": 2,
  "kernelspec": {
   "name": "python_defaultSpec_1594323452610",
   "display_name": "Python 3.7.7 64-bit ('PythonData': conda)"
  }
 },
 "nbformat": 4,
 "nbformat_minor": 2
}