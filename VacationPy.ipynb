{
 "cells": [
  {
   "cell_type": "code",
   "execution_count": 1,
   "metadata": {
    "scrolled": true
   },
   "outputs": [],
   "source": [
    "#import the random module\n",
    "import random\n",
    "\n",
    "#import pandas for df management\n",
    "import pandas as pd\n",
    "\n",
    "# import numpy\n",
    "import numpy as np\n",
    "\n",
    "#import matplotlib for plotting funtionality\n",
    "import matplotlib.pyplot as plt\n",
    "\n",
    "# Import linear regression from the SciPy stats module.\n",
    "from scipy.stats import linregress\n",
    "\n",
    "# import citipy to get closest city from lat long\n",
    "from citipy import citipy\n",
    "\n",
    "# import the datetime module from the datetime library\n",
    "from datetime import datetime\n",
    "\n",
    "# Import the API key.\n",
    "from config import weather_api_key\n",
    "\n",
    "# Import the API key.\n",
    "from config import google_api_key\n",
    "\n",
    "# Import the requests library.\n",
    "import requests\n",
    "\n",
    "import os\n",
    "\n",
    "# import gmaps for google mapping\n",
    "import gmaps"
   ]
  },
  {
   "cell_type": "markdown",
   "metadata": {},
   "source": [
    "First we need to import the list of cities we created in the WeatherPy file."
   ]
  },
  {
   "cell_type": "code",
   "execution_count": 2,
   "metadata": {
    "scrolled": true
   },
   "outputs": [
    {
     "output_type": "execute_result",
     "data": {
      "text/plain": "   City_ID           City Country                 Date    Lat     Lng  \\\n0        0        Chapais      CA  2020-07-07 21:51:27  49.78  -74.85   \n1        1          Ancud      CL  2020-07-07 21:51:28 -41.87  -73.82   \n2        2        Mataura      NZ  2020-07-07 21:51:10 -46.19  168.86   \n3        3  Saint Anthony      US  2020-07-07 21:51:28  45.02  -93.22   \n4        4         Hobart      AU  2020-07-07 21:50:34 -42.88  147.33   \n\n   Max Temp  Humidity  Cloudiness  Wind Speed  \n0     68.00        94          90       10.29  \n1     44.01       100          20       10.29  \n2     39.00        83          95        3.00  \n3     88.00        51          20        3.29  \n4     34.00        86          75        8.05  ",
      "text/html": "<div>\n<style scoped>\n    .dataframe tbody tr th:only-of-type {\n        vertical-align: middle;\n    }\n\n    .dataframe tbody tr th {\n        vertical-align: top;\n    }\n\n    .dataframe thead th {\n        text-align: right;\n    }\n</style>\n<table border=\"1\" class=\"dataframe\">\n  <thead>\n    <tr style=\"text-align: right;\">\n      <th></th>\n      <th>City_ID</th>\n      <th>City</th>\n      <th>Country</th>\n      <th>Date</th>\n      <th>Lat</th>\n      <th>Lng</th>\n      <th>Max Temp</th>\n      <th>Humidity</th>\n      <th>Cloudiness</th>\n      <th>Wind Speed</th>\n    </tr>\n  </thead>\n  <tbody>\n    <tr>\n      <th>0</th>\n      <td>0</td>\n      <td>Chapais</td>\n      <td>CA</td>\n      <td>2020-07-07 21:51:27</td>\n      <td>49.78</td>\n      <td>-74.85</td>\n      <td>68.00</td>\n      <td>94</td>\n      <td>90</td>\n      <td>10.29</td>\n    </tr>\n    <tr>\n      <th>1</th>\n      <td>1</td>\n      <td>Ancud</td>\n      <td>CL</td>\n      <td>2020-07-07 21:51:28</td>\n      <td>-41.87</td>\n      <td>-73.82</td>\n      <td>44.01</td>\n      <td>100</td>\n      <td>20</td>\n      <td>10.29</td>\n    </tr>\n    <tr>\n      <th>2</th>\n      <td>2</td>\n      <td>Mataura</td>\n      <td>NZ</td>\n      <td>2020-07-07 21:51:10</td>\n      <td>-46.19</td>\n      <td>168.86</td>\n      <td>39.00</td>\n      <td>83</td>\n      <td>95</td>\n      <td>3.00</td>\n    </tr>\n    <tr>\n      <th>3</th>\n      <td>3</td>\n      <td>Saint Anthony</td>\n      <td>US</td>\n      <td>2020-07-07 21:51:28</td>\n      <td>45.02</td>\n      <td>-93.22</td>\n      <td>88.00</td>\n      <td>51</td>\n      <td>20</td>\n      <td>3.29</td>\n    </tr>\n    <tr>\n      <th>4</th>\n      <td>4</td>\n      <td>Hobart</td>\n      <td>AU</td>\n      <td>2020-07-07 21:50:34</td>\n      <td>-42.88</td>\n      <td>147.33</td>\n      <td>34.00</td>\n      <td>86</td>\n      <td>75</td>\n      <td>8.05</td>\n    </tr>\n  </tbody>\n</table>\n</div>"
     },
     "metadata": {},
     "execution_count": 2
    }
   ],
   "source": [
    "cities_file_path = os.path.join(\"Weather_Data\",\"cities.csv\")\n",
    "city_data_df = pd.read_csv(cities_file_path)\n",
    "city_data_df.head()"
   ]
  },
  {
   "cell_type": "markdown",
   "metadata": {},
   "source": [
    "We should check the data types of the colums."
   ]
  },
  {
   "cell_type": "code",
   "execution_count": 3,
   "metadata": {
    "scrolled": false
   },
   "outputs": [
    {
     "output_type": "execute_result",
     "data": {
      "text/plain": "City_ID         int64\nCity           object\nCountry        object\nDate           object\nLat           float64\nLng           float64\nMax Temp      float64\nHumidity        int64\nCloudiness      int64\nWind Speed    float64\ndtype: object"
     },
     "metadata": {},
     "execution_count": 3
    }
   ],
   "source": [
    "city_data_df.dtypes"
   ]
  },
  {
   "cell_type": "markdown",
   "metadata": {},
   "source": [
    "Now to use the gmaps api we have to give it our api key."
   ]
  },
  {
   "cell_type": "code",
   "execution_count": 4,
   "metadata": {
    "scrolled": true
   },
   "outputs": [],
   "source": [
    "gmaps.configure(api_key=google_api_key)"
   ]
  },
  {
   "cell_type": "markdown",
   "metadata": {},
   "source": [
    "Now we can make a heat map of max temps using the gmaps api."
   ]
  },
  {
   "cell_type": "code",
   "execution_count": 11,
   "metadata": {
    "scrolled": true
   },
   "outputs": [
    {
     "output_type": "display_data",
     "data": {
      "text/plain": "Figure(layout=FigureLayout(height='420px'))",
      "application/vnd.jupyter.widget-view+json": {
       "version_major": 2,
       "version_minor": 0,
       "model_id": "4370f655a94b4754b7196b84ef290a09"
      }
     },
     "metadata": {}
    }
   ],
   "source": [
    "# Heatmap of temperature\n",
    "# Get the latitude and longitude.\n",
    "locations = city_data_df[[\"Lat\", \"Lng\"]]\n",
    "# Assign the figure variable and format to show just one of each place\n",
    "fig = gmaps.figure(center=(30.0, 31.0), zoom_level=1.0)\n",
    "# Get the maximum temperature.\n",
    "max_temp = city_data_df[\"Max Temp\"]\n",
    "# Assign the heatmap variable, use list comprehension to remove below 0 values\n",
    "heat_layer = gmaps.heatmap_layer(locations, weights=[max(temp, 0) for temp in max_temp], dissipating=False, max_intensity=300, point_radius=6)\n",
    "# Add the heatmap layer.\n",
    "fig.add_layer(heat_layer)\n",
    "# Call the figure to plot the data.\n",
    "fig"
   ]
  },
  {
   "cell_type": "code",
   "execution_count": 12,
   "metadata": {
    "scrolled": true
   },
   "outputs": [
    {
     "output_type": "display_data",
     "data": {
      "text/plain": "Figure(layout=FigureLayout(height='420px'))",
      "application/vnd.jupyter.widget-view+json": {
       "version_major": 2,
       "version_minor": 0,
       "model_id": "251bd5fb52ff49d78e84721103e59487"
      }
     },
     "metadata": {}
    }
   ],
   "source": [
    "# Heatmap of percent humidity\n",
    "locations = city_data_df[[\"Lat\", \"Lng\"]]\n",
    "humidity = city_data_df[\"Humidity\"]\n",
    "fig = gmaps.figure(center=(30.0, 31.0), zoom_level=1.0)\n",
    "heat_layer = gmaps.heatmap_layer(locations, weights=humidity, dissipating=False, max_intensity=300, point_radius=6)\n",
    "\n",
    "fig.add_layer(heat_layer)\n",
    "# Call the figure to plot the data.\n",
    "fig"
   ]
  },
  {
   "cell_type": "code",
   "execution_count": 13,
   "metadata": {},
   "outputs": [
    {
     "output_type": "display_data",
     "data": {
      "text/plain": "Figure(layout=FigureLayout(height='420px'))",
      "application/vnd.jupyter.widget-view+json": {
       "version_major": 2,
       "version_minor": 0,
       "model_id": "1702a19cd13547d68602ef08cb805362"
      }
     },
     "metadata": {}
    }
   ],
   "source": [
    "# Heatmap of percent cloudiness\n",
    "locations = city_data_df[[\"Lat\", \"Lng\"]]\n",
    "clouds = city_data_df[\"Cloudiness\"]\n",
    "fig = gmaps.figure(center=(30.0, 31.0), zoom_level=1.0)\n",
    "heat_layer = gmaps.heatmap_layer(locations, weights = clouds, dissipating=False, max_intensity=300, point_radius=6)\n",
    "\n",
    "fig.add_layer(heat_layer)\n",
    "# Call the figure to plot the data.\n",
    "fig"
   ]
  },
  {
   "cell_type": "markdown",
   "metadata": {},
   "source": [
    "Now we can start geting some input from the customer.\n"
   ]
  },
  {
   "cell_type": "code",
   "execution_count": 14,
   "metadata": {},
   "outputs": [],
   "source": [
    "# Ask the customer to add a minimum and maximum temperature value.\n",
    "min_temp = float(input(\"What is the minimum temperature you would like for your trip? \"))\n",
    "max_temp = float(input(\"What is the maximum temperature you would like for your trip? \"))"
   ]
  },
  {
   "cell_type": "code",
   "execution_count": 17,
   "metadata": {
    "tags": []
   },
   "outputs": [
    {
     "output_type": "stream",
     "name": "stdout",
     "text": "75.0 90.0\n"
    }
   ],
   "source": [
    "print(min_temp,max_temp)"
   ]
  },
  {
   "cell_type": "code",
   "execution_count": 18,
   "metadata": {},
   "outputs": [
    {
     "output_type": "execute_result",
     "data": {
      "text/plain": "    City_ID           City Country                 Date    Lat     Lng  \\\n3         3  Saint Anthony      US  2020-07-07 21:51:28  45.02  -93.22   \n7         7        Cayenne      GF  2020-07-07 21:51:29   4.93  -52.33   \n8         8         Albany      US  2020-07-07 21:51:29  42.60  -73.97   \n11       11        Sompeta      IN  2020-07-07 21:51:29  18.93   84.60   \n13       13         Wilkie      CA  2020-07-07 21:50:25  52.42 -108.70   \n14       14    Andros Town      BS  2020-07-07 21:51:30  24.70  -77.77   \n15       15     Georgetown      MY  2020-07-07 21:51:00   5.41  100.34   \n19       19     Coahuayana      MX  2020-07-07 21:51:30  18.73 -103.68   \n21       21         Atuona      PF  2020-07-07 21:51:31  -9.80 -139.03   \n24       24    Turkmenabat      TM  2020-07-07 21:51:31  39.07   63.58   \n\n    Max Temp  Humidity  Cloudiness  Wind Speed  \n3      88.00        51          20        3.29  \n7      84.20        74           0        4.70  \n8      84.00        55           5        8.50  \n11     82.62        84         100        8.86  \n13     81.00        64          65        5.01  \n14     86.00        79          75        9.17  \n15     77.00       100          40        2.24  \n19     86.00        62          75        7.36  \n21     79.63        76          10       14.05  \n24     78.80        27          22       13.87  ",
      "text/html": "<div>\n<style scoped>\n    .dataframe tbody tr th:only-of-type {\n        vertical-align: middle;\n    }\n\n    .dataframe tbody tr th {\n        vertical-align: top;\n    }\n\n    .dataframe thead th {\n        text-align: right;\n    }\n</style>\n<table border=\"1\" class=\"dataframe\">\n  <thead>\n    <tr style=\"text-align: right;\">\n      <th></th>\n      <th>City_ID</th>\n      <th>City</th>\n      <th>Country</th>\n      <th>Date</th>\n      <th>Lat</th>\n      <th>Lng</th>\n      <th>Max Temp</th>\n      <th>Humidity</th>\n      <th>Cloudiness</th>\n      <th>Wind Speed</th>\n    </tr>\n  </thead>\n  <tbody>\n    <tr>\n      <th>3</th>\n      <td>3</td>\n      <td>Saint Anthony</td>\n      <td>US</td>\n      <td>2020-07-07 21:51:28</td>\n      <td>45.02</td>\n      <td>-93.22</td>\n      <td>88.00</td>\n      <td>51</td>\n      <td>20</td>\n      <td>3.29</td>\n    </tr>\n    <tr>\n      <th>7</th>\n      <td>7</td>\n      <td>Cayenne</td>\n      <td>GF</td>\n      <td>2020-07-07 21:51:29</td>\n      <td>4.93</td>\n      <td>-52.33</td>\n      <td>84.20</td>\n      <td>74</td>\n      <td>0</td>\n      <td>4.70</td>\n    </tr>\n    <tr>\n      <th>8</th>\n      <td>8</td>\n      <td>Albany</td>\n      <td>US</td>\n      <td>2020-07-07 21:51:29</td>\n      <td>42.60</td>\n      <td>-73.97</td>\n      <td>84.00</td>\n      <td>55</td>\n      <td>5</td>\n      <td>8.50</td>\n    </tr>\n    <tr>\n      <th>11</th>\n      <td>11</td>\n      <td>Sompeta</td>\n      <td>IN</td>\n      <td>2020-07-07 21:51:29</td>\n      <td>18.93</td>\n      <td>84.60</td>\n      <td>82.62</td>\n      <td>84</td>\n      <td>100</td>\n      <td>8.86</td>\n    </tr>\n    <tr>\n      <th>13</th>\n      <td>13</td>\n      <td>Wilkie</td>\n      <td>CA</td>\n      <td>2020-07-07 21:50:25</td>\n      <td>52.42</td>\n      <td>-108.70</td>\n      <td>81.00</td>\n      <td>64</td>\n      <td>65</td>\n      <td>5.01</td>\n    </tr>\n    <tr>\n      <th>14</th>\n      <td>14</td>\n      <td>Andros Town</td>\n      <td>BS</td>\n      <td>2020-07-07 21:51:30</td>\n      <td>24.70</td>\n      <td>-77.77</td>\n      <td>86.00</td>\n      <td>79</td>\n      <td>75</td>\n      <td>9.17</td>\n    </tr>\n    <tr>\n      <th>15</th>\n      <td>15</td>\n      <td>Georgetown</td>\n      <td>MY</td>\n      <td>2020-07-07 21:51:00</td>\n      <td>5.41</td>\n      <td>100.34</td>\n      <td>77.00</td>\n      <td>100</td>\n      <td>40</td>\n      <td>2.24</td>\n    </tr>\n    <tr>\n      <th>19</th>\n      <td>19</td>\n      <td>Coahuayana</td>\n      <td>MX</td>\n      <td>2020-07-07 21:51:30</td>\n      <td>18.73</td>\n      <td>-103.68</td>\n      <td>86.00</td>\n      <td>62</td>\n      <td>75</td>\n      <td>7.36</td>\n    </tr>\n    <tr>\n      <th>21</th>\n      <td>21</td>\n      <td>Atuona</td>\n      <td>PF</td>\n      <td>2020-07-07 21:51:31</td>\n      <td>-9.80</td>\n      <td>-139.03</td>\n      <td>79.63</td>\n      <td>76</td>\n      <td>10</td>\n      <td>14.05</td>\n    </tr>\n    <tr>\n      <th>24</th>\n      <td>24</td>\n      <td>Turkmenabat</td>\n      <td>TM</td>\n      <td>2020-07-07 21:51:31</td>\n      <td>39.07</td>\n      <td>63.58</td>\n      <td>78.80</td>\n      <td>27</td>\n      <td>22</td>\n      <td>13.87</td>\n    </tr>\n  </tbody>\n</table>\n</div>"
     },
     "metadata": {},
     "execution_count": 18
    }
   ],
   "source": [
    "# Filter the dataset to find the cities that fit the criteria.\n",
    "preferred_cities_df = city_data_df.loc[(city_data_df[\"Max Temp\"] <= max_temp) & \\\n",
    "                                       (city_data_df[\"Max Temp\"] >= min_temp)]\n",
    "preferred_cities_df.head(10)"
   ]
  },
  {
   "cell_type": "code",
   "execution_count": 19,
   "metadata": {},
   "outputs": [
    {
     "output_type": "execute_result",
     "data": {
      "text/plain": "City_ID       210\nCity          210\nCountry       210\nDate          210\nLat           210\nLng           210\nMax Temp      210\nHumidity      210\nCloudiness    210\nWind Speed    210\ndtype: int64"
     },
     "metadata": {},
     "execution_count": 19
    }
   ],
   "source": [
    "preferred_cities_df.count()"
   ]
  },
  {
   "cell_type": "code",
   "execution_count": 20,
   "metadata": {},
   "outputs": [
    {
     "output_type": "display_data",
     "data": {
      "text/plain": "Figure(layout=FigureLayout(height='420px'))",
      "application/vnd.jupyter.widget-view+json": {
       "version_major": 2,
       "version_minor": 0,
       "model_id": "a599f1d6b7404db7a9357d8afc9feb34"
      }
     },
     "metadata": {}
    }
   ],
   "source": [
    "# Heatmap of temperature\n",
    "# Get the latitude and longitude.\n",
    "locations = preferred_cities_df[[\"Lat\", \"Lng\"]]\n",
    "# Assign the figure variable and format to show just one of each place\n",
    "fig = gmaps.figure(center=(30.0, 31.0), zoom_level=1.0)\n",
    "# Get the maximum temperature.\n",
    "preferred_max_temp = preferred_cities_df[\"Max Temp\"]\n",
    "# Assign the heatmap variable, use list comprehension to remove below 0 values\n",
    "heat_layer = gmaps.heatmap_layer(locations, weights=[max(temp, 0) for temp in preferred_max_temp], dissipating=False, max_intensity=300, point_radius=6)\n",
    "# Add the heatmap layer.\n",
    "fig.add_layer(heat_layer)\n",
    "# Call the figure to plot the data.\n",
    "fig"
   ]
  },
  {
   "cell_type": "code",
   "execution_count": 26,
   "metadata": {},
   "outputs": [
    {
     "output_type": "execute_result",
     "data": {
      "text/plain": "             City Country  Max Temp    Lat     Lng Hotel Name\n3   Saint Anthony      US     88.00  45.02  -93.22           \n7         Cayenne      GF     84.20   4.93  -52.33           \n8          Albany      US     84.00  42.60  -73.97           \n11        Sompeta      IN     82.62  18.93   84.60           \n13         Wilkie      CA     81.00  52.42 -108.70           ",
      "text/html": "<div>\n<style scoped>\n    .dataframe tbody tr th:only-of-type {\n        vertical-align: middle;\n    }\n\n    .dataframe tbody tr th {\n        vertical-align: top;\n    }\n\n    .dataframe thead th {\n        text-align: right;\n    }\n</style>\n<table border=\"1\" class=\"dataframe\">\n  <thead>\n    <tr style=\"text-align: right;\">\n      <th></th>\n      <th>City</th>\n      <th>Country</th>\n      <th>Max Temp</th>\n      <th>Lat</th>\n      <th>Lng</th>\n      <th>Hotel Name</th>\n    </tr>\n  </thead>\n  <tbody>\n    <tr>\n      <th>3</th>\n      <td>Saint Anthony</td>\n      <td>US</td>\n      <td>88.00</td>\n      <td>45.02</td>\n      <td>-93.22</td>\n      <td></td>\n    </tr>\n    <tr>\n      <th>7</th>\n      <td>Cayenne</td>\n      <td>GF</td>\n      <td>84.20</td>\n      <td>4.93</td>\n      <td>-52.33</td>\n      <td></td>\n    </tr>\n    <tr>\n      <th>8</th>\n      <td>Albany</td>\n      <td>US</td>\n      <td>84.00</td>\n      <td>42.60</td>\n      <td>-73.97</td>\n      <td></td>\n    </tr>\n    <tr>\n      <th>11</th>\n      <td>Sompeta</td>\n      <td>IN</td>\n      <td>82.62</td>\n      <td>18.93</td>\n      <td>84.60</td>\n      <td></td>\n    </tr>\n    <tr>\n      <th>13</th>\n      <td>Wilkie</td>\n      <td>CA</td>\n      <td>81.00</td>\n      <td>52.42</td>\n      <td>-108.70</td>\n      <td></td>\n    </tr>\n  </tbody>\n</table>\n</div>"
     },
     "metadata": {},
     "execution_count": 26
    }
   ],
   "source": [
    "hotel_df = preferred_cities_df[[\"City\",\"Country\",\"Max Temp\", \"Lat\", \"Lng\"]].copy()\n",
    "hotel_df[\"Hotel Name\"] = \"\"\n",
    "hotel_df.head()"
   ]
  },
  {
   "cell_type": "markdown",
   "metadata": {},
   "source": [
    "Now we can use the nearby places API to find lodging near our city."
   ]
  },
  {
   "cell_type": "code",
   "execution_count": 31,
   "metadata": {},
   "outputs": [],
   "source": [
    "# Set parameters to search for a hotel.\n",
    "params = {\n",
    "    \"radius\": 5000,\n",
    "    \"type\": \"lodging\",\n",
    "    \"key\": google_api_key,\n",
    "    \"location\": \"48.8566, 2.3522\"}\n",
    "# Use base URL to search for hotels in Paris.\n",
    "base_url = \"https://maps.googleapis.com/maps/api/place/nearbysearch/json\"\n",
    "# Make request and get the JSON data from the search.\n",
    "hotels = requests.get(base_url, params=params).json()"
   ]
  },
  {
   "cell_type": "code",
   "execution_count": 34,
   "metadata": {
    "tags": []
   },
   "outputs": [
    {
     "output_type": "stream",
     "name": "stdout",
     "text": "Hotel not found... skipping.\nHotel not found... skipping.\nHotel not found... skipping.\nHotel not found... skipping.\nHotel not found... skipping.\nHotel not found... skipping.\nHotel not found... skipping.\nHotel not found... skipping.\nHotel not found... skipping.\nHotel not found... skipping.\nHotel not found... skipping.\n"
    }
   ],
   "source": [
    "# Iterate through the DataFrame.\n",
    "for index, row in hotel_df.iterrows():\n",
    "    # Get the latitude and longitude.\n",
    "    lat = row[\"Lat\"]\n",
    "    lng = row[\"Lng\"]\n",
    "\n",
    "    # Add the latitude and longitude to location key for the params dictionary.\n",
    "    params[\"location\"] = f\"{lat},{lng}\"\n",
    "\n",
    "    # Use the search term: \"lodging\" and our latitude and longitude.\n",
    "    base_url = \"https://maps.googleapis.com/maps/api/place/nearbysearch/json\"\n",
    "    # Make request and get the JSON data from the search.\n",
    "    hotels = requests.get(base_url, params=params).json()\n",
    "    # Grab the first hotel from the results and store the name.\n",
    "    try:\n",
    "        hotel_df.loc[index, \"Hotel Name\"] = hotels [\"results\"][0][\"name\"]\n",
    "    except (IndexError):\n",
    "        print(\"Hotel not found... skipping.\")"
   ]
  },
  {
   "cell_type": "code",
   "execution_count": 35,
   "metadata": {},
   "outputs": [
    {
     "output_type": "execute_result",
     "data": {
      "text/plain": "             City Country  Max Temp    Lat     Lng  \\\n3   Saint Anthony      US     88.00  45.02  -93.22   \n7         Cayenne      GF     84.20   4.93  -52.33   \n8          Albany      US     84.00  42.60  -73.97   \n11        Sompeta      IN     82.62  18.93   84.60   \n13         Wilkie      CA     81.00  52.42 -108.70   \n\n                                Hotel Name  \n3   Holiday Inn Express Roseville-St. Paul  \n7                          Hôtel Le Dronmi  \n8                                           \n11       V.B.R A/C Lodge And Function Hall  \n13                            Wilkie Motel  ",
      "text/html": "<div>\n<style scoped>\n    .dataframe tbody tr th:only-of-type {\n        vertical-align: middle;\n    }\n\n    .dataframe tbody tr th {\n        vertical-align: top;\n    }\n\n    .dataframe thead th {\n        text-align: right;\n    }\n</style>\n<table border=\"1\" class=\"dataframe\">\n  <thead>\n    <tr style=\"text-align: right;\">\n      <th></th>\n      <th>City</th>\n      <th>Country</th>\n      <th>Max Temp</th>\n      <th>Lat</th>\n      <th>Lng</th>\n      <th>Hotel Name</th>\n    </tr>\n  </thead>\n  <tbody>\n    <tr>\n      <th>3</th>\n      <td>Saint Anthony</td>\n      <td>US</td>\n      <td>88.00</td>\n      <td>45.02</td>\n      <td>-93.22</td>\n      <td>Holiday Inn Express Roseville-St. Paul</td>\n    </tr>\n    <tr>\n      <th>7</th>\n      <td>Cayenne</td>\n      <td>GF</td>\n      <td>84.20</td>\n      <td>4.93</td>\n      <td>-52.33</td>\n      <td>Hôtel Le Dronmi</td>\n    </tr>\n    <tr>\n      <th>8</th>\n      <td>Albany</td>\n      <td>US</td>\n      <td>84.00</td>\n      <td>42.60</td>\n      <td>-73.97</td>\n      <td></td>\n    </tr>\n    <tr>\n      <th>11</th>\n      <td>Sompeta</td>\n      <td>IN</td>\n      <td>82.62</td>\n      <td>18.93</td>\n      <td>84.60</td>\n      <td>V.B.R A/C Lodge And Function Hall</td>\n    </tr>\n    <tr>\n      <th>13</th>\n      <td>Wilkie</td>\n      <td>CA</td>\n      <td>81.00</td>\n      <td>52.42</td>\n      <td>-108.70</td>\n      <td>Wilkie Motel</td>\n    </tr>\n  </tbody>\n</table>\n</div>"
     },
     "metadata": {},
     "execution_count": 35
    }
   ],
   "source": [
    "hotel_df.head()"
   ]
  },
  {
   "cell_type": "code",
   "execution_count": 36,
   "metadata": {},
   "outputs": [
    {
     "output_type": "display_data",
     "data": {
      "text/plain": "Figure(layout=FigureLayout(height='420px'))",
      "application/vnd.jupyter.widget-view+json": {
       "version_major": 2,
       "version_minor": 0,
       "model_id": "28d5ac08a5fd4e5f8ba145430141813c"
      }
     },
     "metadata": {}
    }
   ],
   "source": [
    "# Add a heatmap of temperature for the vacation spots and marker for each city.\n",
    "locations = hotel_df[[\"Lat\", \"Lng\"]]\n",
    "max_temp = hotel_df[\"Max Temp\"]\n",
    "fig = gmaps.figure(center=(30.0, 31.0), zoom_level=1.0)\n",
    "heat_layer = gmaps.heatmap_layer(locations, weights=max_temp, \n",
    "             dissipating=False, max_intensity=300, point_radius=4)\n",
    "marker_layer = gmaps.marker_layer(locations)\n",
    "fig.add_layer(heat_layer)\n",
    "fig.add_layer(marker_layer)\n",
    "# Call the figure to plot the data.\n",
    "fig"
   ]
  },
  {
   "cell_type": "code",
   "execution_count": 38,
   "metadata": {},
   "outputs": [],
   "source": [
    "info_box_template = \"\"\"\n",
    "<dl>\n",
    "<dt>Hotel Name</dt><dd>{Hotel Name}</dd>\n",
    "<dt>City</dt><dd>{City}</dd>\n",
    "<dt>Country</dt><dd>{Country}</dd>\n",
    "<dt>Max Temp</dt><dd>{Max Temp} °F</dd>\n",
    "</dl>\n",
    "\"\"\""
   ]
  },
  {
   "cell_type": "code",
   "execution_count": 39,
   "metadata": {},
   "outputs": [],
   "source": [
    "# Store the DataFrame Row.\n",
    "hotel_info = [info_box_template.format(**row) for index, row in hotel_df.iterrows()]"
   ]
  },
  {
   "cell_type": "code",
   "execution_count": 40,
   "metadata": {},
   "outputs": [
    {
     "output_type": "display_data",
     "data": {
      "text/plain": "Figure(layout=FigureLayout(height='420px'))",
      "application/vnd.jupyter.widget-view+json": {
       "version_major": 2,
       "version_minor": 0,
       "model_id": "dfcde165773b4ea691eb8848b67e6d7d"
      }
     },
     "metadata": {}
    }
   ],
   "source": [
    "# Add a heatmap of temperature for the vacation spots and a pop-up marker for each city.\n",
    "locations = hotel_df[[\"Lat\", \"Lng\"]]\n",
    "max_temp = hotel_df[\"Max Temp\"]\n",
    "fig = gmaps.figure(center=(30.0, 31.0), zoom_level=1.0)\n",
    "heat_layer = gmaps.heatmap_layer(locations, weights=max_temp,dissipating=False,\n",
    "             max_intensity=300, point_radius=4)\n",
    "marker_layer = gmaps.marker_layer(locations, info_box_content=hotel_info)\n",
    "fig.add_layer(heat_layer)\n",
    "fig.add_layer(marker_layer)\n",
    "\n",
    "# Call the figure to plot the data.\n",
    "fig"
   ]
  },
  {
   "cell_type": "code",
   "execution_count": null,
   "metadata": {},
   "outputs": [],
   "source": []
  }
 ],
 "metadata": {
  "kernelspec": {
   "display_name": "Python 3.7.7 64-bit ('PythonData': conda)",
   "language": "python",
   "name": "python_defaultSpec_1594231880869"
  },
  "language_info": {
   "codemirror_mode": {
    "name": "ipython",
    "version": 3
   },
   "file_extension": ".py",
   "mimetype": "text/x-python",
   "name": "python",
   "nbconvert_exporter": "python",
   "pygments_lexer": "ipython3",
   "version": "3.7.7-final"
  }
 },
 "nbformat": 4,
 "nbformat_minor": 4
}