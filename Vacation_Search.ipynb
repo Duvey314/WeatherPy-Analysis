{
 "cells": [
  {
   "cell_type": "code",
   "execution_count": 7,
   "metadata": {},
   "outputs": [],
   "source": [
    "#import pandas for df management\n",
    "import pandas as pd\n",
    "\n",
    "# import numpy\n",
    "import numpy as np\n",
    "\n",
    "#import matplotlib for plotting funtionality\n",
    "import matplotlib.pyplot as plt\n",
    "\n",
    "# import citipy to get closest city from lat long\n",
    "from citipy import citipy\n",
    "\n",
    "# import the datetime module from the datetime library\n",
    "from datetime import datetime\n",
    "\n",
    "# Import the API key.\n",
    "from config import weather_api_key\n",
    "\n",
    "# Import the API key.\n",
    "from config import google_api_key\n",
    "\n",
    "# import gmaps for google mapping\n",
    "import gmaps\n",
    "\n",
    "# Import the requests library.\n",
    "import requests\n",
    "\n",
    "# import os for path join\n",
    "import os\n"
   ]
  },
  {
   "cell_type": "code",
   "execution_count": 9,
   "metadata": {},
   "outputs": [
    {
     "output_type": "execute_result",
     "data": {
      "text/plain": "   City_ID          City    Lat     Lng  Max Temp  Humidity  Cloudiness  \\\n0        0       Fortuna  40.60 -124.16     70.00        72           1   \n1        1     Grindavik  63.84  -22.43     51.80        71          75   \n2        2  Komsomolskiy  40.43   71.72     77.00        33         100   \n3        3       Mataura -46.19  168.86     42.06        92         100   \n4        4   San Ignacio  17.16  -89.07     93.20        56          40   \n\n   Wind Speed       Description Country                 Date  Rainfall(1h)  \\\n0       14.99         clear sky      US  2020-07-09 21:13:14          0.00   \n1       11.41     broken clouds      IS  2020-07-09 21:11:38          0.00   \n2        6.93   overcast clouds      UZ  2020-07-09 21:13:15          0.00   \n3        5.06        light rain      NZ  2020-07-09 21:13:06          0.13   \n4        6.93  scattered clouds      BZ  2020-07-09 21:13:15          0.00   \n\n   Snowfall(1h)  \n0           0.0  \n1           0.0  \n2           0.0  \n3           0.0  \n4           0.0  ",
      "text/html": "<div>\n<style scoped>\n    .dataframe tbody tr th:only-of-type {\n        vertical-align: middle;\n    }\n\n    .dataframe tbody tr th {\n        vertical-align: top;\n    }\n\n    .dataframe thead th {\n        text-align: right;\n    }\n</style>\n<table border=\"1\" class=\"dataframe\">\n  <thead>\n    <tr style=\"text-align: right;\">\n      <th></th>\n      <th>City_ID</th>\n      <th>City</th>\n      <th>Lat</th>\n      <th>Lng</th>\n      <th>Max Temp</th>\n      <th>Humidity</th>\n      <th>Cloudiness</th>\n      <th>Wind Speed</th>\n      <th>Description</th>\n      <th>Country</th>\n      <th>Date</th>\n      <th>Rainfall(1h)</th>\n      <th>Snowfall(1h)</th>\n    </tr>\n  </thead>\n  <tbody>\n    <tr>\n      <th>0</th>\n      <td>0</td>\n      <td>Fortuna</td>\n      <td>40.60</td>\n      <td>-124.16</td>\n      <td>70.00</td>\n      <td>72</td>\n      <td>1</td>\n      <td>14.99</td>\n      <td>clear sky</td>\n      <td>US</td>\n      <td>2020-07-09 21:13:14</td>\n      <td>0.00</td>\n      <td>0.0</td>\n    </tr>\n    <tr>\n      <th>1</th>\n      <td>1</td>\n      <td>Grindavik</td>\n      <td>63.84</td>\n      <td>-22.43</td>\n      <td>51.80</td>\n      <td>71</td>\n      <td>75</td>\n      <td>11.41</td>\n      <td>broken clouds</td>\n      <td>IS</td>\n      <td>2020-07-09 21:11:38</td>\n      <td>0.00</td>\n      <td>0.0</td>\n    </tr>\n    <tr>\n      <th>2</th>\n      <td>2</td>\n      <td>Komsomolskiy</td>\n      <td>40.43</td>\n      <td>71.72</td>\n      <td>77.00</td>\n      <td>33</td>\n      <td>100</td>\n      <td>6.93</td>\n      <td>overcast clouds</td>\n      <td>UZ</td>\n      <td>2020-07-09 21:13:15</td>\n      <td>0.00</td>\n      <td>0.0</td>\n    </tr>\n    <tr>\n      <th>3</th>\n      <td>3</td>\n      <td>Mataura</td>\n      <td>-46.19</td>\n      <td>168.86</td>\n      <td>42.06</td>\n      <td>92</td>\n      <td>100</td>\n      <td>5.06</td>\n      <td>light rain</td>\n      <td>NZ</td>\n      <td>2020-07-09 21:13:06</td>\n      <td>0.13</td>\n      <td>0.0</td>\n    </tr>\n    <tr>\n      <th>4</th>\n      <td>4</td>\n      <td>San Ignacio</td>\n      <td>17.16</td>\n      <td>-89.07</td>\n      <td>93.20</td>\n      <td>56</td>\n      <td>40</td>\n      <td>6.93</td>\n      <td>scattered clouds</td>\n      <td>BZ</td>\n      <td>2020-07-09 21:13:15</td>\n      <td>0.00</td>\n      <td>0.0</td>\n    </tr>\n  </tbody>\n</table>\n</div>"
     },
     "metadata": {},
     "execution_count": 9
    }
   ],
   "source": [
    "cities_file_path = os.path.join(\"Data\",\"WeatherPy_Database.csv\")\n",
    "city_data_df = pd.read_csv(cities_file_path)\n",
    "city_data_df.head()"
   ]
  },
  {
   "cell_type": "markdown",
   "metadata": {},
   "source": [
    "Get input from the user for the weather they would like for their trip."
   ]
  },
  {
   "cell_type": "code",
   "execution_count": 16,
   "metadata": {
    "tags": []
   },
   "outputs": [
    {
     "output_type": "stream",
     "name": "stdout",
     "text": "70.0 90.0 no no\n"
    }
   ],
   "source": [
    "min_temp = float(input(\"What is the minimum temperature you would like for your trip? \"))\n",
    "max_temp = float(input(\"What is the maximum temperature you would like for your trip? \"))\n",
    "raining = str(input(\"Do you want it to be raining? (yes/no) \"))\n",
    "snowing = str(input(\"Do you want it to be snowing? (yes/no) \"))\n",
    "print(min_temp,max_temp,raining,snowing)\n"
   ]
  },
  {
   "cell_type": "code",
   "execution_count": 23,
   "metadata": {},
   "outputs": [
    {
     "output_type": "execute_result",
     "data": {
      "text/plain": "City_ID         253\nCity            253\nLat             253\nLng             253\nMax Temp        253\nHumidity        253\nCloudiness      253\nWind Speed      253\nDescription     253\nCountry         253\nDate            253\nRainfall(1h)    253\nSnowfall(1h)    253\ndtype: int64"
     },
     "metadata": {},
     "execution_count": 23
    }
   ],
   "source": [
    "if raining == \"yes\":\n",
    "    if snowing == \"yes\":\n",
    "        preferred_cities_df = city_data_df.loc[(city_data_df[\"Max Temp\"] <= max_temp) & \\\n",
    "                                                (city_data_df[\"Max Temp\"] >= min_temp) & \\\n",
    "                                                (city_data_df[\"Rainfall(1h)\"] > 0) & \\\n",
    "                                                (city_data_df[\"Snowfall(1h)\"] > 0)]\n",
    "    elif snowing == \"no\":\n",
    "        preferred_cities_df = city_data_df.loc[(city_data_df[\"Max Temp\"] <= max_temp) & \\\n",
    "                                                (city_data_df[\"Max Temp\"] >= min_temp) & \\\n",
    "                                                (city_data_df[\"Rainfall(1h)\"] > 0) & \\\n",
    "                                                (city_data_df[\"Snowfall(1h)\"] == 0)]\n",
    "    else:\n",
    "        print(\"Incorrect input for snow!\")\n",
    "elif raining == \"no\":\n",
    "    if snowing == \"yes\":\n",
    "        preferred_cities_df = city_data_df.loc[(city_data_df[\"Max Temp\"] <= max_temp) & \\\n",
    "                                                (city_data_df[\"Max Temp\"] >= min_temp) & \\\n",
    "                                                (city_data_df[\"Rainfall(1h)\"] == 0) & \\\n",
    "                                                (city_data_df[\"Snowfall(1h)\"] > 0)]\n",
    "    elif snowing == \"no\":\n",
    "        preferred_cities_df = city_data_df.loc[(city_data_df[\"Max Temp\"] <= max_temp) & \\\n",
    "                                                (city_data_df[\"Max Temp\"] >= min_temp) & \\\n",
    "                                                (city_data_df[\"Rainfall(1h)\"] == 0) & \\\n",
    "                                                (city_data_df[\"Snowfall(1h)\"] == 0)]\n",
    "    else:\n",
    "        print(\"Incorrect input for snow!\")\n",
    "else:\n",
    "        print(\"Incorrect input for rain!\")\n",
    "preferred_cities_df.count()"
   ]
  },
  {
   "cell_type": "code",
   "execution_count": 18,
   "metadata": {},
   "outputs": [
    {
     "output_type": "execute_result",
     "data": {
      "text/plain": "               City Country       Description  Max Temp    Lat     Lng  \\\n0           Fortuna      US         clear sky     70.00  40.60 -124.16   \n2      Komsomolskiy      UZ   overcast clouds     77.00  40.43   71.72   \n6          Matagami      CA         clear sky     86.00  49.75  -77.63   \n11       Butaritari      KI         clear sky     83.89   3.07  172.79   \n14   Saint-Philippe      RE        few clouds     71.60 -21.36   55.77   \n..              ...     ...               ...       ...    ...     ...   \n617   Kanniyakumari      IN   overcast clouds     80.28   8.08   77.57   \n618        Lorengau      PG   overcast clouds     82.60  -2.02  147.27   \n620        Almenara      BR  scattered clouds     73.89 -16.18  -40.69   \n621      Phan Thiet      VN   overcast clouds     76.71  10.93  108.10   \n622          Papara      BR     broken clouds     80.60  -3.98  -38.73   \n\n    Hotel Name  \n0               \n2               \n6               \n11              \n14              \n..         ...  \n617             \n618             \n620             \n621             \n622             \n\n[253 rows x 7 columns]",
      "text/html": "<div>\n<style scoped>\n    .dataframe tbody tr th:only-of-type {\n        vertical-align: middle;\n    }\n\n    .dataframe tbody tr th {\n        vertical-align: top;\n    }\n\n    .dataframe thead th {\n        text-align: right;\n    }\n</style>\n<table border=\"1\" class=\"dataframe\">\n  <thead>\n    <tr style=\"text-align: right;\">\n      <th></th>\n      <th>City</th>\n      <th>Country</th>\n      <th>Description</th>\n      <th>Max Temp</th>\n      <th>Lat</th>\n      <th>Lng</th>\n      <th>Hotel Name</th>\n    </tr>\n  </thead>\n  <tbody>\n    <tr>\n      <th>0</th>\n      <td>Fortuna</td>\n      <td>US</td>\n      <td>clear sky</td>\n      <td>70.00</td>\n      <td>40.60</td>\n      <td>-124.16</td>\n      <td></td>\n    </tr>\n    <tr>\n      <th>2</th>\n      <td>Komsomolskiy</td>\n      <td>UZ</td>\n      <td>overcast clouds</td>\n      <td>77.00</td>\n      <td>40.43</td>\n      <td>71.72</td>\n      <td></td>\n    </tr>\n    <tr>\n      <th>6</th>\n      <td>Matagami</td>\n      <td>CA</td>\n      <td>clear sky</td>\n      <td>86.00</td>\n      <td>49.75</td>\n      <td>-77.63</td>\n      <td></td>\n    </tr>\n    <tr>\n      <th>11</th>\n      <td>Butaritari</td>\n      <td>KI</td>\n      <td>clear sky</td>\n      <td>83.89</td>\n      <td>3.07</td>\n      <td>172.79</td>\n      <td></td>\n    </tr>\n    <tr>\n      <th>14</th>\n      <td>Saint-Philippe</td>\n      <td>RE</td>\n      <td>few clouds</td>\n      <td>71.60</td>\n      <td>-21.36</td>\n      <td>55.77</td>\n      <td></td>\n    </tr>\n    <tr>\n      <th>...</th>\n      <td>...</td>\n      <td>...</td>\n      <td>...</td>\n      <td>...</td>\n      <td>...</td>\n      <td>...</td>\n      <td>...</td>\n    </tr>\n    <tr>\n      <th>617</th>\n      <td>Kanniyakumari</td>\n      <td>IN</td>\n      <td>overcast clouds</td>\n      <td>80.28</td>\n      <td>8.08</td>\n      <td>77.57</td>\n      <td></td>\n    </tr>\n    <tr>\n      <th>618</th>\n      <td>Lorengau</td>\n      <td>PG</td>\n      <td>overcast clouds</td>\n      <td>82.60</td>\n      <td>-2.02</td>\n      <td>147.27</td>\n      <td></td>\n    </tr>\n    <tr>\n      <th>620</th>\n      <td>Almenara</td>\n      <td>BR</td>\n      <td>scattered clouds</td>\n      <td>73.89</td>\n      <td>-16.18</td>\n      <td>-40.69</td>\n      <td></td>\n    </tr>\n    <tr>\n      <th>621</th>\n      <td>Phan Thiet</td>\n      <td>VN</td>\n      <td>overcast clouds</td>\n      <td>76.71</td>\n      <td>10.93</td>\n      <td>108.10</td>\n      <td></td>\n    </tr>\n    <tr>\n      <th>622</th>\n      <td>Papara</td>\n      <td>BR</td>\n      <td>broken clouds</td>\n      <td>80.60</td>\n      <td>-3.98</td>\n      <td>-38.73</td>\n      <td></td>\n    </tr>\n  </tbody>\n</table>\n<p>253 rows × 7 columns</p>\n</div>"
     },
     "metadata": {},
     "execution_count": 18
    }
   ],
   "source": [
    "hotel_df = preferred_cities_df[[\"City\",\"Country\",\"Description\",\"Max Temp\", \"Lat\", \"Lng\"]].copy()\n",
    "hotel_df[\"Hotel Name\"] = \"\"\n",
    "hotel_df"
   ]
  },
  {
   "cell_type": "code",
   "execution_count": 19,
   "metadata": {},
   "outputs": [],
   "source": [
    "# Set parameters to search for a hotel.\n",
    "params = {\n",
    "    \"radius\": 5000,\n",
    "    \"type\": \"lodging\",\n",
    "    \"key\": google_api_key,\n",
    "    \"location\": \"48.8566, 2.3522\"}\n",
    "# Use base URL to search for hotels in Paris.\n",
    "base_url = \"https://maps.googleapis.com/maps/api/place/nearbysearch/json\"\n",
    "# Make request and get the JSON data from the search.\n",
    "hotels = requests.get(base_url, params=params).json()"
   ]
  },
  {
   "cell_type": "code",
   "execution_count": 20,
   "metadata": {
    "tags": []
   },
   "outputs": [
    {
     "output_type": "stream",
     "name": "stdout",
     "text": "Hotel not found... skipping.\nHotel not found... skipping.\nHotel not found... skipping.\nHotel not found... skipping.\nHotel not found... skipping.\nHotel not found... skipping.\nHotel not found... skipping.\nHotel not found... skipping.\nHotel not found... skipping.\nHotel not found... skipping.\nHotel not found... skipping.\nHotel not found... skipping.\nHotel not found... skipping.\nHotel not found... skipping.\nHotel not found... skipping.\nHotel not found... skipping.\nHotel not found... skipping.\nHotel not found... skipping.\nHotel not found... skipping.\nHotel not found... skipping.\nHotel not found... skipping.\nHotel not found... skipping.\n"
    }
   ],
   "source": [
    "# Iterate through the DataFrame.\n",
    "for index, row in hotel_df.iterrows():\n",
    "    # Get the latitude and longitude.\n",
    "    lat = row[\"Lat\"]\n",
    "    lng = row[\"Lng\"]\n",
    "\n",
    "    # Add the latitude and longitude to location key for the params dictionary.\n",
    "    params[\"location\"] = f\"{lat},{lng}\"\n",
    "\n",
    "    # Use the search term: \"lodging\" and our latitude and longitude.\n",
    "    base_url = \"https://maps.googleapis.com/maps/api/place/nearbysearch/json\"\n",
    "    # Make request and get the JSON data from the search.\n",
    "    hotels = requests.get(base_url, params=params).json()\n",
    "    # Grab the first hotel from the results and store the name.\n",
    "    try:\n",
    "        hotel_df.loc[index, \"Hotel Name\"] = hotels [\"results\"][0][\"name\"]\n",
    "    except (IndexError):\n",
    "        print(\"Hotel not found... skipping.\")"
   ]
  },
  {
   "cell_type": "code",
   "execution_count": 22,
   "metadata": {},
   "outputs": [],
   "source": [
    "# Create the output file (CSV).\n",
    "output_data_file = os.path.join(\"Data\",\"WeatherPy_Vacation.csv\")\n",
    "\n",
    "# Export the City_Data into a CSV.\n",
    "hotel_df.to_csv(output_data_file, index_label=\"City_ID\")"
   ]
  },
  {
   "cell_type": "code",
   "execution_count": 21,
   "metadata": {},
   "outputs": [
    {
     "output_type": "display_data",
     "data": {
      "text/plain": "Figure(layout=FigureLayout(height='420px'))",
      "application/vnd.jupyter.widget-view+json": {
       "version_major": 2,
       "version_minor": 0,
       "model_id": "00de9fa14b264a51af562d96496a03e8"
      }
     },
     "metadata": {}
    }
   ],
   "source": [
    "# set api key for gmaps\n",
    "gmaps.configure(api_key=google_api_key)\n",
    "\n",
    "# html for what goes in the descriptor box\n",
    "info_box_template = \"\"\"\n",
    "<dl>\n",
    "<dt>Hotel Name</dt><dd>{Hotel Name}</dd>\n",
    "<dt>City</dt><dd>{City}</dd>\n",
    "<dt>Country</dt><dd>{Country}</dd>\n",
    "<dt>Description</dt><dd>{Description}</dd>\n",
    "<dt>Max Temp</dt><dd>{Max Temp} °F</dd>\n",
    "</dl>\n",
    "\"\"\"\n",
    "# Store the DataFrame Row.\n",
    "hotel_info = [info_box_template.format(**row) for index, row in hotel_df.iterrows()]\n",
    "\n",
    "# Add a map of vacation spots and a pop-up marker for each city.\n",
    "locations = hotel_df[[\"Lat\", \"Lng\"]]\n",
    "fig = gmaps.figure(center=(30.0, 31.0), zoom_level=1.0)\n",
    "marker_layer = gmaps.marker_layer(locations, info_box_content=hotel_info)\n",
    "fig.add_layer(marker_layer)\n",
    "\n",
    "# Call the figure to plot the data.\n",
    "fig"
   ]
  },
  {
   "cell_type": "code",
   "execution_count": null,
   "metadata": {},
   "outputs": [],
   "source": []
  }
 ],
 "metadata": {
  "language_info": {
   "codemirror_mode": {
    "name": "ipython",
    "version": 3
   },
   "file_extension": ".py",
   "mimetype": "text/x-python",
   "name": "python",
   "nbconvert_exporter": "python",
   "pygments_lexer": "ipython3",
   "version": "3.7.7-final"
  },
  "orig_nbformat": 2,
  "kernelspec": {
   "name": "python_defaultSpec_1594394820118",
   "display_name": "Python 3.7.7 64-bit ('PythonData': conda)"
  }
 },
 "nbformat": 4,
 "nbformat_minor": 2
}