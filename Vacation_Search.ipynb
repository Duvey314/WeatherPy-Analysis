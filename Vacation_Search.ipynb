{
 "cells": [
  {
   "cell_type": "code",
   "execution_count": 9,
   "metadata": {},
   "outputs": [],
   "source": [
    "#import pandas for df management\n",
    "import pandas as pd\n",
    "\n",
    "# import numpy\n",
    "import numpy as np\n",
    "\n",
    "#import matplotlib for plotting funtionality\n",
    "import matplotlib.pyplot as plt\n",
    "\n",
    "# import citipy to get closest city from lat long\n",
    "from citipy import citipy\n",
    "\n",
    "# import the datetime module from the datetime library\n",
    "from datetime import datetime\n",
    "\n",
    "# Import the API key.\n",
    "from config import weather_api_key\n",
    "\n",
    "# Import the API key.\n",
    "from config import google_api_key\n",
    "\n",
    "# import gmaps for google mapping\n",
    "import gmaps\n",
    "\n",
    "# Import the requests library.\n",
    "import requests\n",
    "\n",
    "# import os for path join\n",
    "import os\n"
   ]
  },
  {
   "cell_type": "code",
   "execution_count": 2,
   "metadata": {},
   "outputs": [
    {
     "output_type": "execute_result",
     "data": {
      "text/plain": "   City_ID          City    Lat     Lng  Max Temp  Humidity  Cloudiness  \\\n0        0       Fortuna  40.60 -124.16     70.00        72           1   \n1        1     Grindavik  63.84  -22.43     51.80        71          75   \n2        2  Komsomolskiy  40.43   71.72     77.00        33         100   \n3        3       Mataura -46.19  168.86     42.06        92         100   \n4        4   San Ignacio  17.16  -89.07     93.20        56          40   \n\n   Wind Speed       Description Country                 Date  Rainfall(1h)  \\\n0       14.99         clear sky      US  2020-07-09 21:13:14          0.00   \n1       11.41     broken clouds      IS  2020-07-09 21:11:38          0.00   \n2        6.93   overcast clouds      UZ  2020-07-09 21:13:15          0.00   \n3        5.06        light rain      NZ  2020-07-09 21:13:06          0.13   \n4        6.93  scattered clouds      BZ  2020-07-09 21:13:15          0.00   \n\n   Snowfall(1h)  \n0           0.0  \n1           0.0  \n2           0.0  \n3           0.0  \n4           0.0  ",
      "text/html": "<div>\n<style scoped>\n    .dataframe tbody tr th:only-of-type {\n        vertical-align: middle;\n    }\n\n    .dataframe tbody tr th {\n        vertical-align: top;\n    }\n\n    .dataframe thead th {\n        text-align: right;\n    }\n</style>\n<table border=\"1\" class=\"dataframe\">\n  <thead>\n    <tr style=\"text-align: right;\">\n      <th></th>\n      <th>City_ID</th>\n      <th>City</th>\n      <th>Lat</th>\n      <th>Lng</th>\n      <th>Max Temp</th>\n      <th>Humidity</th>\n      <th>Cloudiness</th>\n      <th>Wind Speed</th>\n      <th>Description</th>\n      <th>Country</th>\n      <th>Date</th>\n      <th>Rainfall(1h)</th>\n      <th>Snowfall(1h)</th>\n    </tr>\n  </thead>\n  <tbody>\n    <tr>\n      <th>0</th>\n      <td>0</td>\n      <td>Fortuna</td>\n      <td>40.60</td>\n      <td>-124.16</td>\n      <td>70.00</td>\n      <td>72</td>\n      <td>1</td>\n      <td>14.99</td>\n      <td>clear sky</td>\n      <td>US</td>\n      <td>2020-07-09 21:13:14</td>\n      <td>0.00</td>\n      <td>0.0</td>\n    </tr>\n    <tr>\n      <th>1</th>\n      <td>1</td>\n      <td>Grindavik</td>\n      <td>63.84</td>\n      <td>-22.43</td>\n      <td>51.80</td>\n      <td>71</td>\n      <td>75</td>\n      <td>11.41</td>\n      <td>broken clouds</td>\n      <td>IS</td>\n      <td>2020-07-09 21:11:38</td>\n      <td>0.00</td>\n      <td>0.0</td>\n    </tr>\n    <tr>\n      <th>2</th>\n      <td>2</td>\n      <td>Komsomolskiy</td>\n      <td>40.43</td>\n      <td>71.72</td>\n      <td>77.00</td>\n      <td>33</td>\n      <td>100</td>\n      <td>6.93</td>\n      <td>overcast clouds</td>\n      <td>UZ</td>\n      <td>2020-07-09 21:13:15</td>\n      <td>0.00</td>\n      <td>0.0</td>\n    </tr>\n    <tr>\n      <th>3</th>\n      <td>3</td>\n      <td>Mataura</td>\n      <td>-46.19</td>\n      <td>168.86</td>\n      <td>42.06</td>\n      <td>92</td>\n      <td>100</td>\n      <td>5.06</td>\n      <td>light rain</td>\n      <td>NZ</td>\n      <td>2020-07-09 21:13:06</td>\n      <td>0.13</td>\n      <td>0.0</td>\n    </tr>\n    <tr>\n      <th>4</th>\n      <td>4</td>\n      <td>San Ignacio</td>\n      <td>17.16</td>\n      <td>-89.07</td>\n      <td>93.20</td>\n      <td>56</td>\n      <td>40</td>\n      <td>6.93</td>\n      <td>scattered clouds</td>\n      <td>BZ</td>\n      <td>2020-07-09 21:13:15</td>\n      <td>0.00</td>\n      <td>0.0</td>\n    </tr>\n  </tbody>\n</table>\n</div>"
     },
     "metadata": {},
     "execution_count": 2
    }
   ],
   "source": [
    "cities_file_path = os.path.join(\"Data\",\"WeatherPy_Database.csv\")\n",
    "city_data_df = pd.read_csv(cities_file_path)\n",
    "city_data_df.head()"
   ]
  },
  {
   "cell_type": "markdown",
   "metadata": {},
   "source": [
    "Get input from the user for the weather they would like for their trip."
   ]
  },
  {
   "cell_type": "code",
   "execution_count": 3,
   "metadata": {
    "tags": []
   },
   "outputs": [
    {
     "output_type": "stream",
     "name": "stdout",
     "text": "70.0 90.0 yes no\n"
    }
   ],
   "source": [
    "min_temp = float(input(\"What is the minimum temperature you would like for your trip? \"))\n",
    "max_temp = float(input(\"What is the maximum temperature you would like for your trip? \"))\n",
    "raining = str(input(\"Do you want it to be raining? (yes/no) \"))\n",
    "snowing = str(input(\"Do you want it to be snowing? (yes/no) \"))\n",
    "print(min_temp,max_temp,raining,snowing)\n"
   ]
  },
  {
   "cell_type": "code",
   "execution_count": 4,
   "metadata": {},
   "outputs": [
    {
     "output_type": "execute_result",
     "data": {
      "text/plain": "     City_ID             City    Lat     Lng  Max Temp  Humidity  Cloudiness  \\\n60        60          Kavieng  -2.57  150.80     82.20        75          89   \n62        62            Buala  -8.14  159.59     81.16        81          79   \n86        86           Dayong  25.02  118.29     84.20        83         100   \n111      111          Caninde  -4.36  -39.31     76.39        77          41   \n113      113             Mana   5.66  -53.78     80.94        80          68   \n136      136            Fukue  32.69  128.84     76.03        89         100   \n164      164             Tura  25.52   90.22     75.16        98         100   \n228      228           Siocon   7.71  122.14     78.35        83          97   \n241      241    Marsh Harbour  26.54  -77.06     86.49        70         100   \n245      245        Kisangani   0.52   25.20     73.56        89          57   \n284      284          Guhagar  17.48   73.19     78.93        86         100   \n297      297       Thakurganj  26.45   88.13     79.29        93         100   \n306      306          Kendari  -3.94  122.50     73.02        95         100   \n307      307         Weligama   5.97   80.42     79.34        86          89   \n332      332          Loubomo  -4.20   12.67     70.30        87          14   \n336      336            Gotsu  35.00  132.22     72.88        94         100   \n339      339       Batesville  35.77  -91.64     75.20        88          20   \n341      341  Dzilam Gonzalez  21.28  -88.93     89.01        75           1   \n402      402    Narasannapeta  18.42   84.05     81.16        84          94   \n408      408        Namatanai  -3.67  152.43     80.51        77          36   \n442      442             Babu  24.42  111.52     78.12        88         100   \n443      443         La Sarre  48.80  -79.20     83.07        62          82   \n448      448           Camopi   3.17  -52.32     78.93        94          99   \n462      462      Grand-Santi   4.25  -54.38     78.85        93          82   \n473      473         Kirakira -10.45  161.92     80.35        82          40   \n474      474           Pinawa  50.15  -95.88     71.76        62          46   \n477      477           Serabu   7.80  -12.05     73.31        98         100   \n519      519          Lincoln  40.80  -96.67     86.00        48           1   \n520      520          Leiyang  26.40  112.86     78.30        92         100   \n524      524              Uyo   5.03    7.93     74.41        93         100   \n535      535       Tindivanam  12.25   79.65     79.75        82         100   \n567      567          Bassila   9.01    1.67     71.62        96          58   \n590      590        Portobelo   9.55  -79.65     89.01        70          56   \n\n     Wind Speed           Description Country                 Date  \\\n60         6.78            light rain      PG  2020-07-09 21:13:22   \n62        10.98            light rain      SB  2020-07-09 21:13:22   \n86         8.95            light rain      CN  2020-07-09 21:13:25   \n111        4.38            light rain      BR  2020-07-09 21:13:28   \n113        5.91            light rain      GF  2020-07-09 21:13:28   \n136       26.89            light rain      JP  2020-07-09 21:13:31   \n164        3.38         moderate rain      IN  2020-07-09 21:13:34   \n228        3.76            light rain      PH  2020-07-09 21:13:42   \n241       11.50            light rain      BS  2020-07-09 21:13:46   \n245        2.86            light rain      CD  2020-07-09 21:13:47   \n284        5.12            light rain      IN  2020-07-09 21:13:54   \n297        4.47            light rain      IN  2020-07-09 21:13:56   \n306        3.11            light rain      ID  2020-07-09 21:13:58   \n307        9.26            light rain      LK  2020-07-09 21:13:58   \n332        7.05            light rain      CG  2020-07-09 21:14:02   \n336        3.44         moderate rain      JP  2020-07-09 21:14:03   \n339        9.17            light rain      US  2020-07-09 21:14:03   \n341        9.06            light rain      MX  2020-07-09 21:14:04   \n402        6.42            light rain      IN  2020-07-09 21:14:12   \n408        6.67            light rain      PG  2020-07-09 21:14:12   \n442        3.85            light rain      CN  2020-07-09 21:14:17   \n443        8.95            light rain      CA  2020-07-09 21:09:47   \n448        2.51         moderate rain      GF  2020-07-09 21:14:18   \n462        2.46         moderate rain      GF  2020-07-09 21:14:20   \n473       12.91            light rain      SB  2020-07-09 21:14:22   \n474       13.02            light rain      CA  2020-07-09 21:14:22   \n477        3.38            light rain      SL  2020-07-09 21:14:22   \n519       10.29            light rain      US  2020-07-09 21:09:42   \n520        4.83            light rain      CN  2020-07-09 21:14:28   \n524        6.60            light rain      NG  2020-07-09 21:14:28   \n535       10.00  heavy intensity rain      IN  2020-07-09 21:14:30   \n567        4.94            light rain      BJ  2020-07-09 21:14:34   \n590       11.99            light rain      PA  2020-07-09 21:14:37   \n\n     Rainfall(1h)  Snowfall(1h)  \n60           0.83           0.0  \n62           0.48           0.0  \n86           0.19           0.0  \n111          0.11           0.0  \n113          0.41           0.0  \n136          0.44           0.0  \n164          2.35           0.0  \n228          0.18           0.0  \n241          0.25           0.0  \n245          0.21           0.0  \n284          0.38           0.0  \n297          0.34           0.0  \n306          0.51           0.0  \n307          0.12           0.0  \n332          0.12           0.0  \n336          1.09           0.0  \n339          0.25           0.0  \n341          0.80           0.0  \n402          0.33           0.0  \n408          0.20           0.0  \n442          0.69           0.0  \n443          0.21           0.0  \n448          1.18           0.0  \n462          1.63           0.0  \n473          0.51           0.0  \n474          0.21           0.0  \n477          0.49           0.0  \n519          0.25           0.0  \n520          0.51           0.0  \n524          0.59           0.0  \n535          4.71           0.0  \n567          0.61           0.0  \n590          0.63           0.0  ",
      "text/html": "<div>\n<style scoped>\n    .dataframe tbody tr th:only-of-type {\n        vertical-align: middle;\n    }\n\n    .dataframe tbody tr th {\n        vertical-align: top;\n    }\n\n    .dataframe thead th {\n        text-align: right;\n    }\n</style>\n<table border=\"1\" class=\"dataframe\">\n  <thead>\n    <tr style=\"text-align: right;\">\n      <th></th>\n      <th>City_ID</th>\n      <th>City</th>\n      <th>Lat</th>\n      <th>Lng</th>\n      <th>Max Temp</th>\n      <th>Humidity</th>\n      <th>Cloudiness</th>\n      <th>Wind Speed</th>\n      <th>Description</th>\n      <th>Country</th>\n      <th>Date</th>\n      <th>Rainfall(1h)</th>\n      <th>Snowfall(1h)</th>\n    </tr>\n  </thead>\n  <tbody>\n    <tr>\n      <th>60</th>\n      <td>60</td>\n      <td>Kavieng</td>\n      <td>-2.57</td>\n      <td>150.80</td>\n      <td>82.20</td>\n      <td>75</td>\n      <td>89</td>\n      <td>6.78</td>\n      <td>light rain</td>\n      <td>PG</td>\n      <td>2020-07-09 21:13:22</td>\n      <td>0.83</td>\n      <td>0.0</td>\n    </tr>\n    <tr>\n      <th>62</th>\n      <td>62</td>\n      <td>Buala</td>\n      <td>-8.14</td>\n      <td>159.59</td>\n      <td>81.16</td>\n      <td>81</td>\n      <td>79</td>\n      <td>10.98</td>\n      <td>light rain</td>\n      <td>SB</td>\n      <td>2020-07-09 21:13:22</td>\n      <td>0.48</td>\n      <td>0.0</td>\n    </tr>\n    <tr>\n      <th>86</th>\n      <td>86</td>\n      <td>Dayong</td>\n      <td>25.02</td>\n      <td>118.29</td>\n      <td>84.20</td>\n      <td>83</td>\n      <td>100</td>\n      <td>8.95</td>\n      <td>light rain</td>\n      <td>CN</td>\n      <td>2020-07-09 21:13:25</td>\n      <td>0.19</td>\n      <td>0.0</td>\n    </tr>\n    <tr>\n      <th>111</th>\n      <td>111</td>\n      <td>Caninde</td>\n      <td>-4.36</td>\n      <td>-39.31</td>\n      <td>76.39</td>\n      <td>77</td>\n      <td>41</td>\n      <td>4.38</td>\n      <td>light rain</td>\n      <td>BR</td>\n      <td>2020-07-09 21:13:28</td>\n      <td>0.11</td>\n      <td>0.0</td>\n    </tr>\n    <tr>\n      <th>113</th>\n      <td>113</td>\n      <td>Mana</td>\n      <td>5.66</td>\n      <td>-53.78</td>\n      <td>80.94</td>\n      <td>80</td>\n      <td>68</td>\n      <td>5.91</td>\n      <td>light rain</td>\n      <td>GF</td>\n      <td>2020-07-09 21:13:28</td>\n      <td>0.41</td>\n      <td>0.0</td>\n    </tr>\n    <tr>\n      <th>136</th>\n      <td>136</td>\n      <td>Fukue</td>\n      <td>32.69</td>\n      <td>128.84</td>\n      <td>76.03</td>\n      <td>89</td>\n      <td>100</td>\n      <td>26.89</td>\n      <td>light rain</td>\n      <td>JP</td>\n      <td>2020-07-09 21:13:31</td>\n      <td>0.44</td>\n      <td>0.0</td>\n    </tr>\n    <tr>\n      <th>164</th>\n      <td>164</td>\n      <td>Tura</td>\n      <td>25.52</td>\n      <td>90.22</td>\n      <td>75.16</td>\n      <td>98</td>\n      <td>100</td>\n      <td>3.38</td>\n      <td>moderate rain</td>\n      <td>IN</td>\n      <td>2020-07-09 21:13:34</td>\n      <td>2.35</td>\n      <td>0.0</td>\n    </tr>\n    <tr>\n      <th>228</th>\n      <td>228</td>\n      <td>Siocon</td>\n      <td>7.71</td>\n      <td>122.14</td>\n      <td>78.35</td>\n      <td>83</td>\n      <td>97</td>\n      <td>3.76</td>\n      <td>light rain</td>\n      <td>PH</td>\n      <td>2020-07-09 21:13:42</td>\n      <td>0.18</td>\n      <td>0.0</td>\n    </tr>\n    <tr>\n      <th>241</th>\n      <td>241</td>\n      <td>Marsh Harbour</td>\n      <td>26.54</td>\n      <td>-77.06</td>\n      <td>86.49</td>\n      <td>70</td>\n      <td>100</td>\n      <td>11.50</td>\n      <td>light rain</td>\n      <td>BS</td>\n      <td>2020-07-09 21:13:46</td>\n      <td>0.25</td>\n      <td>0.0</td>\n    </tr>\n    <tr>\n      <th>245</th>\n      <td>245</td>\n      <td>Kisangani</td>\n      <td>0.52</td>\n      <td>25.20</td>\n      <td>73.56</td>\n      <td>89</td>\n      <td>57</td>\n      <td>2.86</td>\n      <td>light rain</td>\n      <td>CD</td>\n      <td>2020-07-09 21:13:47</td>\n      <td>0.21</td>\n      <td>0.0</td>\n    </tr>\n    <tr>\n      <th>284</th>\n      <td>284</td>\n      <td>Guhagar</td>\n      <td>17.48</td>\n      <td>73.19</td>\n      <td>78.93</td>\n      <td>86</td>\n      <td>100</td>\n      <td>5.12</td>\n      <td>light rain</td>\n      <td>IN</td>\n      <td>2020-07-09 21:13:54</td>\n      <td>0.38</td>\n      <td>0.0</td>\n    </tr>\n    <tr>\n      <th>297</th>\n      <td>297</td>\n      <td>Thakurganj</td>\n      <td>26.45</td>\n      <td>88.13</td>\n      <td>79.29</td>\n      <td>93</td>\n      <td>100</td>\n      <td>4.47</td>\n      <td>light rain</td>\n      <td>IN</td>\n      <td>2020-07-09 21:13:56</td>\n      <td>0.34</td>\n      <td>0.0</td>\n    </tr>\n    <tr>\n      <th>306</th>\n      <td>306</td>\n      <td>Kendari</td>\n      <td>-3.94</td>\n      <td>122.50</td>\n      <td>73.02</td>\n      <td>95</td>\n      <td>100</td>\n      <td>3.11</td>\n      <td>light rain</td>\n      <td>ID</td>\n      <td>2020-07-09 21:13:58</td>\n      <td>0.51</td>\n      <td>0.0</td>\n    </tr>\n    <tr>\n      <th>307</th>\n      <td>307</td>\n      <td>Weligama</td>\n      <td>5.97</td>\n      <td>80.42</td>\n      <td>79.34</td>\n      <td>86</td>\n      <td>89</td>\n      <td>9.26</td>\n      <td>light rain</td>\n      <td>LK</td>\n      <td>2020-07-09 21:13:58</td>\n      <td>0.12</td>\n      <td>0.0</td>\n    </tr>\n    <tr>\n      <th>332</th>\n      <td>332</td>\n      <td>Loubomo</td>\n      <td>-4.20</td>\n      <td>12.67</td>\n      <td>70.30</td>\n      <td>87</td>\n      <td>14</td>\n      <td>7.05</td>\n      <td>light rain</td>\n      <td>CG</td>\n      <td>2020-07-09 21:14:02</td>\n      <td>0.12</td>\n      <td>0.0</td>\n    </tr>\n    <tr>\n      <th>336</th>\n      <td>336</td>\n      <td>Gotsu</td>\n      <td>35.00</td>\n      <td>132.22</td>\n      <td>72.88</td>\n      <td>94</td>\n      <td>100</td>\n      <td>3.44</td>\n      <td>moderate rain</td>\n      <td>JP</td>\n      <td>2020-07-09 21:14:03</td>\n      <td>1.09</td>\n      <td>0.0</td>\n    </tr>\n    <tr>\n      <th>339</th>\n      <td>339</td>\n      <td>Batesville</td>\n      <td>35.77</td>\n      <td>-91.64</td>\n      <td>75.20</td>\n      <td>88</td>\n      <td>20</td>\n      <td>9.17</td>\n      <td>light rain</td>\n      <td>US</td>\n      <td>2020-07-09 21:14:03</td>\n      <td>0.25</td>\n      <td>0.0</td>\n    </tr>\n    <tr>\n      <th>341</th>\n      <td>341</td>\n      <td>Dzilam Gonzalez</td>\n      <td>21.28</td>\n      <td>-88.93</td>\n      <td>89.01</td>\n      <td>75</td>\n      <td>1</td>\n      <td>9.06</td>\n      <td>light rain</td>\n      <td>MX</td>\n      <td>2020-07-09 21:14:04</td>\n      <td>0.80</td>\n      <td>0.0</td>\n    </tr>\n    <tr>\n      <th>402</th>\n      <td>402</td>\n      <td>Narasannapeta</td>\n      <td>18.42</td>\n      <td>84.05</td>\n      <td>81.16</td>\n      <td>84</td>\n      <td>94</td>\n      <td>6.42</td>\n      <td>light rain</td>\n      <td>IN</td>\n      <td>2020-07-09 21:14:12</td>\n      <td>0.33</td>\n      <td>0.0</td>\n    </tr>\n    <tr>\n      <th>408</th>\n      <td>408</td>\n      <td>Namatanai</td>\n      <td>-3.67</td>\n      <td>152.43</td>\n      <td>80.51</td>\n      <td>77</td>\n      <td>36</td>\n      <td>6.67</td>\n      <td>light rain</td>\n      <td>PG</td>\n      <td>2020-07-09 21:14:12</td>\n      <td>0.20</td>\n      <td>0.0</td>\n    </tr>\n    <tr>\n      <th>442</th>\n      <td>442</td>\n      <td>Babu</td>\n      <td>24.42</td>\n      <td>111.52</td>\n      <td>78.12</td>\n      <td>88</td>\n      <td>100</td>\n      <td>3.85</td>\n      <td>light rain</td>\n      <td>CN</td>\n      <td>2020-07-09 21:14:17</td>\n      <td>0.69</td>\n      <td>0.0</td>\n    </tr>\n    <tr>\n      <th>443</th>\n      <td>443</td>\n      <td>La Sarre</td>\n      <td>48.80</td>\n      <td>-79.20</td>\n      <td>83.07</td>\n      <td>62</td>\n      <td>82</td>\n      <td>8.95</td>\n      <td>light rain</td>\n      <td>CA</td>\n      <td>2020-07-09 21:09:47</td>\n      <td>0.21</td>\n      <td>0.0</td>\n    </tr>\n    <tr>\n      <th>448</th>\n      <td>448</td>\n      <td>Camopi</td>\n      <td>3.17</td>\n      <td>-52.32</td>\n      <td>78.93</td>\n      <td>94</td>\n      <td>99</td>\n      <td>2.51</td>\n      <td>moderate rain</td>\n      <td>GF</td>\n      <td>2020-07-09 21:14:18</td>\n      <td>1.18</td>\n      <td>0.0</td>\n    </tr>\n    <tr>\n      <th>462</th>\n      <td>462</td>\n      <td>Grand-Santi</td>\n      <td>4.25</td>\n      <td>-54.38</td>\n      <td>78.85</td>\n      <td>93</td>\n      <td>82</td>\n      <td>2.46</td>\n      <td>moderate rain</td>\n      <td>GF</td>\n      <td>2020-07-09 21:14:20</td>\n      <td>1.63</td>\n      <td>0.0</td>\n    </tr>\n    <tr>\n      <th>473</th>\n      <td>473</td>\n      <td>Kirakira</td>\n      <td>-10.45</td>\n      <td>161.92</td>\n      <td>80.35</td>\n      <td>82</td>\n      <td>40</td>\n      <td>12.91</td>\n      <td>light rain</td>\n      <td>SB</td>\n      <td>2020-07-09 21:14:22</td>\n      <td>0.51</td>\n      <td>0.0</td>\n    </tr>\n    <tr>\n      <th>474</th>\n      <td>474</td>\n      <td>Pinawa</td>\n      <td>50.15</td>\n      <td>-95.88</td>\n      <td>71.76</td>\n      <td>62</td>\n      <td>46</td>\n      <td>13.02</td>\n      <td>light rain</td>\n      <td>CA</td>\n      <td>2020-07-09 21:14:22</td>\n      <td>0.21</td>\n      <td>0.0</td>\n    </tr>\n    <tr>\n      <th>477</th>\n      <td>477</td>\n      <td>Serabu</td>\n      <td>7.80</td>\n      <td>-12.05</td>\n      <td>73.31</td>\n      <td>98</td>\n      <td>100</td>\n      <td>3.38</td>\n      <td>light rain</td>\n      <td>SL</td>\n      <td>2020-07-09 21:14:22</td>\n      <td>0.49</td>\n      <td>0.0</td>\n    </tr>\n    <tr>\n      <th>519</th>\n      <td>519</td>\n      <td>Lincoln</td>\n      <td>40.80</td>\n      <td>-96.67</td>\n      <td>86.00</td>\n      <td>48</td>\n      <td>1</td>\n      <td>10.29</td>\n      <td>light rain</td>\n      <td>US</td>\n      <td>2020-07-09 21:09:42</td>\n      <td>0.25</td>\n      <td>0.0</td>\n    </tr>\n    <tr>\n      <th>520</th>\n      <td>520</td>\n      <td>Leiyang</td>\n      <td>26.40</td>\n      <td>112.86</td>\n      <td>78.30</td>\n      <td>92</td>\n      <td>100</td>\n      <td>4.83</td>\n      <td>light rain</td>\n      <td>CN</td>\n      <td>2020-07-09 21:14:28</td>\n      <td>0.51</td>\n      <td>0.0</td>\n    </tr>\n    <tr>\n      <th>524</th>\n      <td>524</td>\n      <td>Uyo</td>\n      <td>5.03</td>\n      <td>7.93</td>\n      <td>74.41</td>\n      <td>93</td>\n      <td>100</td>\n      <td>6.60</td>\n      <td>light rain</td>\n      <td>NG</td>\n      <td>2020-07-09 21:14:28</td>\n      <td>0.59</td>\n      <td>0.0</td>\n    </tr>\n    <tr>\n      <th>535</th>\n      <td>535</td>\n      <td>Tindivanam</td>\n      <td>12.25</td>\n      <td>79.65</td>\n      <td>79.75</td>\n      <td>82</td>\n      <td>100</td>\n      <td>10.00</td>\n      <td>heavy intensity rain</td>\n      <td>IN</td>\n      <td>2020-07-09 21:14:30</td>\n      <td>4.71</td>\n      <td>0.0</td>\n    </tr>\n    <tr>\n      <th>567</th>\n      <td>567</td>\n      <td>Bassila</td>\n      <td>9.01</td>\n      <td>1.67</td>\n      <td>71.62</td>\n      <td>96</td>\n      <td>58</td>\n      <td>4.94</td>\n      <td>light rain</td>\n      <td>BJ</td>\n      <td>2020-07-09 21:14:34</td>\n      <td>0.61</td>\n      <td>0.0</td>\n    </tr>\n    <tr>\n      <th>590</th>\n      <td>590</td>\n      <td>Portobelo</td>\n      <td>9.55</td>\n      <td>-79.65</td>\n      <td>89.01</td>\n      <td>70</td>\n      <td>56</td>\n      <td>11.99</td>\n      <td>light rain</td>\n      <td>PA</td>\n      <td>2020-07-09 21:14:37</td>\n      <td>0.63</td>\n      <td>0.0</td>\n    </tr>\n  </tbody>\n</table>\n</div>"
     },
     "metadata": {},
     "execution_count": 4
    }
   ],
   "source": [
    "if raining == \"yes\":\n",
    "    if snowing == \"yes\":\n",
    "        preferred_cities_df = city_data_df.loc[(city_data_df[\"Max Temp\"] <= max_temp) & \\\n",
    "                                                (city_data_df[\"Max Temp\"] >= min_temp) & \\\n",
    "                                                (city_data_df[\"Rainfall(1h)\"] > 0) & \\\n",
    "                                                (city_data_df[\"Snowfall(1h)\"] > 0)]\n",
    "    elif snowing == \"no\":\n",
    "        preferred_cities_df = city_data_df.loc[(city_data_df[\"Max Temp\"] <= max_temp) & \\\n",
    "                                                (city_data_df[\"Max Temp\"] >= min_temp) & \\\n",
    "                                                (city_data_df[\"Rainfall(1h)\"] > 0) & \\\n",
    "                                                (city_data_df[\"Snowfall(1h)\"] == 0)]\n",
    "    else:\n",
    "        print(\"Incorrect input for snow!\")\n",
    "elif raining == \"no\":\n",
    "    if snowing == \"yes\":\n",
    "        preferred_cities_df = city_data_df.loc[(city_data_df[\"Max Temp\"] <= max_temp) & \\\n",
    "                                                (city_data_df[\"Max Temp\"] >= min_temp) & \\\n",
    "                                                (city_data_df[\"Rainfall(1h)\"] == 0) & \\\n",
    "                                                (city_data_df[\"Snowfall(1h)\"] > 0)]\n",
    "    elif snowing == \"no\":\n",
    "        preferred_cities_df = city_data_df.loc[(city_data_df[\"Max Temp\"] <= max_temp) & \\\n",
    "                                                (city_data_df[\"Max Temp\"] >= min_temp) & \\\n",
    "                                                (city_data_df[\"Rainfall(1h)\"] == 0) & \\\n",
    "                                                (city_data_df[\"Snowfall(1h)\"] == 0)]\n",
    "    else:\n",
    "        print(\"Incorrect input for snow!\")\n",
    "else:\n",
    "        print(\"Incorrect input for rain!\")\n",
    "preferred_cities_df"
   ]
  },
  {
   "cell_type": "code",
   "execution_count": 5,
   "metadata": {},
   "outputs": [
    {
     "output_type": "execute_result",
     "data": {
      "text/plain": "                City Country           Description  Max Temp    Lat     Lng  \\\n60           Kavieng      PG            light rain     82.20  -2.57  150.80   \n62             Buala      SB            light rain     81.16  -8.14  159.59   \n86            Dayong      CN            light rain     84.20  25.02  118.29   \n111          Caninde      BR            light rain     76.39  -4.36  -39.31   \n113             Mana      GF            light rain     80.94   5.66  -53.78   \n136            Fukue      JP            light rain     76.03  32.69  128.84   \n164             Tura      IN         moderate rain     75.16  25.52   90.22   \n228           Siocon      PH            light rain     78.35   7.71  122.14   \n241    Marsh Harbour      BS            light rain     86.49  26.54  -77.06   \n245        Kisangani      CD            light rain     73.56   0.52   25.20   \n284          Guhagar      IN            light rain     78.93  17.48   73.19   \n297       Thakurganj      IN            light rain     79.29  26.45   88.13   \n306          Kendari      ID            light rain     73.02  -3.94  122.50   \n307         Weligama      LK            light rain     79.34   5.97   80.42   \n332          Loubomo      CG            light rain     70.30  -4.20   12.67   \n336            Gotsu      JP         moderate rain     72.88  35.00  132.22   \n339       Batesville      US            light rain     75.20  35.77  -91.64   \n341  Dzilam Gonzalez      MX            light rain     89.01  21.28  -88.93   \n402    Narasannapeta      IN            light rain     81.16  18.42   84.05   \n408        Namatanai      PG            light rain     80.51  -3.67  152.43   \n442             Babu      CN            light rain     78.12  24.42  111.52   \n443         La Sarre      CA            light rain     83.07  48.80  -79.20   \n448           Camopi      GF         moderate rain     78.93   3.17  -52.32   \n462      Grand-Santi      GF         moderate rain     78.85   4.25  -54.38   \n473         Kirakira      SB            light rain     80.35 -10.45  161.92   \n474           Pinawa      CA            light rain     71.76  50.15  -95.88   \n477           Serabu      SL            light rain     73.31   7.80  -12.05   \n519          Lincoln      US            light rain     86.00  40.80  -96.67   \n520          Leiyang      CN            light rain     78.30  26.40  112.86   \n524              Uyo      NG            light rain     74.41   5.03    7.93   \n535       Tindivanam      IN  heavy intensity rain     79.75  12.25   79.65   \n567          Bassila      BJ            light rain     71.62   9.01    1.67   \n590        Portobelo      PA            light rain     89.01   9.55  -79.65   \n\n    Hotel Name  \n60              \n62              \n86              \n111             \n113             \n136             \n164             \n228             \n241             \n245             \n284             \n297             \n306             \n307             \n332             \n336             \n339             \n341             \n402             \n408             \n442             \n443             \n448             \n462             \n473             \n474             \n477             \n519             \n520             \n524             \n535             \n567             \n590             ",
      "text/html": "<div>\n<style scoped>\n    .dataframe tbody tr th:only-of-type {\n        vertical-align: middle;\n    }\n\n    .dataframe tbody tr th {\n        vertical-align: top;\n    }\n\n    .dataframe thead th {\n        text-align: right;\n    }\n</style>\n<table border=\"1\" class=\"dataframe\">\n  <thead>\n    <tr style=\"text-align: right;\">\n      <th></th>\n      <th>City</th>\n      <th>Country</th>\n      <th>Description</th>\n      <th>Max Temp</th>\n      <th>Lat</th>\n      <th>Lng</th>\n      <th>Hotel Name</th>\n    </tr>\n  </thead>\n  <tbody>\n    <tr>\n      <th>60</th>\n      <td>Kavieng</td>\n      <td>PG</td>\n      <td>light rain</td>\n      <td>82.20</td>\n      <td>-2.57</td>\n      <td>150.80</td>\n      <td></td>\n    </tr>\n    <tr>\n      <th>62</th>\n      <td>Buala</td>\n      <td>SB</td>\n      <td>light rain</td>\n      <td>81.16</td>\n      <td>-8.14</td>\n      <td>159.59</td>\n      <td></td>\n    </tr>\n    <tr>\n      <th>86</th>\n      <td>Dayong</td>\n      <td>CN</td>\n      <td>light rain</td>\n      <td>84.20</td>\n      <td>25.02</td>\n      <td>118.29</td>\n      <td></td>\n    </tr>\n    <tr>\n      <th>111</th>\n      <td>Caninde</td>\n      <td>BR</td>\n      <td>light rain</td>\n      <td>76.39</td>\n      <td>-4.36</td>\n      <td>-39.31</td>\n      <td></td>\n    </tr>\n    <tr>\n      <th>113</th>\n      <td>Mana</td>\n      <td>GF</td>\n      <td>light rain</td>\n      <td>80.94</td>\n      <td>5.66</td>\n      <td>-53.78</td>\n      <td></td>\n    </tr>\n    <tr>\n      <th>136</th>\n      <td>Fukue</td>\n      <td>JP</td>\n      <td>light rain</td>\n      <td>76.03</td>\n      <td>32.69</td>\n      <td>128.84</td>\n      <td></td>\n    </tr>\n    <tr>\n      <th>164</th>\n      <td>Tura</td>\n      <td>IN</td>\n      <td>moderate rain</td>\n      <td>75.16</td>\n      <td>25.52</td>\n      <td>90.22</td>\n      <td></td>\n    </tr>\n    <tr>\n      <th>228</th>\n      <td>Siocon</td>\n      <td>PH</td>\n      <td>light rain</td>\n      <td>78.35</td>\n      <td>7.71</td>\n      <td>122.14</td>\n      <td></td>\n    </tr>\n    <tr>\n      <th>241</th>\n      <td>Marsh Harbour</td>\n      <td>BS</td>\n      <td>light rain</td>\n      <td>86.49</td>\n      <td>26.54</td>\n      <td>-77.06</td>\n      <td></td>\n    </tr>\n    <tr>\n      <th>245</th>\n      <td>Kisangani</td>\n      <td>CD</td>\n      <td>light rain</td>\n      <td>73.56</td>\n      <td>0.52</td>\n      <td>25.20</td>\n      <td></td>\n    </tr>\n    <tr>\n      <th>284</th>\n      <td>Guhagar</td>\n      <td>IN</td>\n      <td>light rain</td>\n      <td>78.93</td>\n      <td>17.48</td>\n      <td>73.19</td>\n      <td></td>\n    </tr>\n    <tr>\n      <th>297</th>\n      <td>Thakurganj</td>\n      <td>IN</td>\n      <td>light rain</td>\n      <td>79.29</td>\n      <td>26.45</td>\n      <td>88.13</td>\n      <td></td>\n    </tr>\n    <tr>\n      <th>306</th>\n      <td>Kendari</td>\n      <td>ID</td>\n      <td>light rain</td>\n      <td>73.02</td>\n      <td>-3.94</td>\n      <td>122.50</td>\n      <td></td>\n    </tr>\n    <tr>\n      <th>307</th>\n      <td>Weligama</td>\n      <td>LK</td>\n      <td>light rain</td>\n      <td>79.34</td>\n      <td>5.97</td>\n      <td>80.42</td>\n      <td></td>\n    </tr>\n    <tr>\n      <th>332</th>\n      <td>Loubomo</td>\n      <td>CG</td>\n      <td>light rain</td>\n      <td>70.30</td>\n      <td>-4.20</td>\n      <td>12.67</td>\n      <td></td>\n    </tr>\n    <tr>\n      <th>336</th>\n      <td>Gotsu</td>\n      <td>JP</td>\n      <td>moderate rain</td>\n      <td>72.88</td>\n      <td>35.00</td>\n      <td>132.22</td>\n      <td></td>\n    </tr>\n    <tr>\n      <th>339</th>\n      <td>Batesville</td>\n      <td>US</td>\n      <td>light rain</td>\n      <td>75.20</td>\n      <td>35.77</td>\n      <td>-91.64</td>\n      <td></td>\n    </tr>\n    <tr>\n      <th>341</th>\n      <td>Dzilam Gonzalez</td>\n      <td>MX</td>\n      <td>light rain</td>\n      <td>89.01</td>\n      <td>21.28</td>\n      <td>-88.93</td>\n      <td></td>\n    </tr>\n    <tr>\n      <th>402</th>\n      <td>Narasannapeta</td>\n      <td>IN</td>\n      <td>light rain</td>\n      <td>81.16</td>\n      <td>18.42</td>\n      <td>84.05</td>\n      <td></td>\n    </tr>\n    <tr>\n      <th>408</th>\n      <td>Namatanai</td>\n      <td>PG</td>\n      <td>light rain</td>\n      <td>80.51</td>\n      <td>-3.67</td>\n      <td>152.43</td>\n      <td></td>\n    </tr>\n    <tr>\n      <th>442</th>\n      <td>Babu</td>\n      <td>CN</td>\n      <td>light rain</td>\n      <td>78.12</td>\n      <td>24.42</td>\n      <td>111.52</td>\n      <td></td>\n    </tr>\n    <tr>\n      <th>443</th>\n      <td>La Sarre</td>\n      <td>CA</td>\n      <td>light rain</td>\n      <td>83.07</td>\n      <td>48.80</td>\n      <td>-79.20</td>\n      <td></td>\n    </tr>\n    <tr>\n      <th>448</th>\n      <td>Camopi</td>\n      <td>GF</td>\n      <td>moderate rain</td>\n      <td>78.93</td>\n      <td>3.17</td>\n      <td>-52.32</td>\n      <td></td>\n    </tr>\n    <tr>\n      <th>462</th>\n      <td>Grand-Santi</td>\n      <td>GF</td>\n      <td>moderate rain</td>\n      <td>78.85</td>\n      <td>4.25</td>\n      <td>-54.38</td>\n      <td></td>\n    </tr>\n    <tr>\n      <th>473</th>\n      <td>Kirakira</td>\n      <td>SB</td>\n      <td>light rain</td>\n      <td>80.35</td>\n      <td>-10.45</td>\n      <td>161.92</td>\n      <td></td>\n    </tr>\n    <tr>\n      <th>474</th>\n      <td>Pinawa</td>\n      <td>CA</td>\n      <td>light rain</td>\n      <td>71.76</td>\n      <td>50.15</td>\n      <td>-95.88</td>\n      <td></td>\n    </tr>\n    <tr>\n      <th>477</th>\n      <td>Serabu</td>\n      <td>SL</td>\n      <td>light rain</td>\n      <td>73.31</td>\n      <td>7.80</td>\n      <td>-12.05</td>\n      <td></td>\n    </tr>\n    <tr>\n      <th>519</th>\n      <td>Lincoln</td>\n      <td>US</td>\n      <td>light rain</td>\n      <td>86.00</td>\n      <td>40.80</td>\n      <td>-96.67</td>\n      <td></td>\n    </tr>\n    <tr>\n      <th>520</th>\n      <td>Leiyang</td>\n      <td>CN</td>\n      <td>light rain</td>\n      <td>78.30</td>\n      <td>26.40</td>\n      <td>112.86</td>\n      <td></td>\n    </tr>\n    <tr>\n      <th>524</th>\n      <td>Uyo</td>\n      <td>NG</td>\n      <td>light rain</td>\n      <td>74.41</td>\n      <td>5.03</td>\n      <td>7.93</td>\n      <td></td>\n    </tr>\n    <tr>\n      <th>535</th>\n      <td>Tindivanam</td>\n      <td>IN</td>\n      <td>heavy intensity rain</td>\n      <td>79.75</td>\n      <td>12.25</td>\n      <td>79.65</td>\n      <td></td>\n    </tr>\n    <tr>\n      <th>567</th>\n      <td>Bassila</td>\n      <td>BJ</td>\n      <td>light rain</td>\n      <td>71.62</td>\n      <td>9.01</td>\n      <td>1.67</td>\n      <td></td>\n    </tr>\n    <tr>\n      <th>590</th>\n      <td>Portobelo</td>\n      <td>PA</td>\n      <td>light rain</td>\n      <td>89.01</td>\n      <td>9.55</td>\n      <td>-79.65</td>\n      <td></td>\n    </tr>\n  </tbody>\n</table>\n</div>"
     },
     "metadata": {},
     "execution_count": 5
    }
   ],
   "source": [
    "hotel_df = preferred_cities_df[[\"City\",\"Country\",\"Description\",\"Max Temp\", \"Lat\", \"Lng\"]].copy()\n",
    "hotel_df[\"Hotel Name\"] = \"\"\n",
    "hotel_df"
   ]
  },
  {
   "cell_type": "code",
   "execution_count": 15,
   "metadata": {},
   "outputs": [],
   "source": [
    "# Set parameters to search for a hotel.\n",
    "params = {\n",
    "    \"radius\": 5000,\n",
    "    \"type\": \"lodging\",\n",
    "    \"key\": google_api_key,\n",
    "    \"location\": \"48.8566, 2.3522\"}\n",
    "# Use base URL to search for hotels in Paris.\n",
    "base_url = \"https://maps.googleapis.com/maps/api/place/nearbysearch/json\"\n",
    "# Make request and get the JSON data from the search.\n",
    "hotels = requests.get(base_url, params=params).json()"
   ]
  },
  {
   "cell_type": "code",
   "execution_count": 7,
   "metadata": {
    "tags": []
   },
   "outputs": [
    {
     "output_type": "stream",
     "name": "stdout",
     "text": "Hotel not found... skipping.\nHotel not found... skipping.\n"
    }
   ],
   "source": [
    "# Iterate through the DataFrame.\n",
    "for index, row in hotel_df.iterrows():\n",
    "    # Get the latitude and longitude.\n",
    "    lat = row[\"Lat\"]\n",
    "    lng = row[\"Lng\"]\n",
    "\n",
    "    # Add the latitude and longitude to location key for the params dictionary.\n",
    "    params[\"location\"] = f\"{lat},{lng}\"\n",
    "\n",
    "    # Use the search term: \"lodging\" and our latitude and longitude.\n",
    "    base_url = \"https://maps.googleapis.com/maps/api/place/nearbysearch/json\"\n",
    "    # Make request and get the JSON data from the search.\n",
    "    hotels = requests.get(base_url, params=params).json()\n",
    "    # Grab the first hotel from the results and store the name.\n",
    "    try:\n",
    "        hotel_df.loc[index, \"Hotel Name\"] = hotels [\"results\"][0][\"name\"]\n",
    "    except (IndexError):\n",
    "        print(\"Hotel not found... skipping.\")"
   ]
  },
  {
   "cell_type": "code",
   "execution_count": 20,
   "metadata": {},
   "outputs": [],
   "source": [
    "# Create the output file (CSV).\n",
    "output_data_file = os.path.join(\"Data\",\"WeatherPy_Vacation.csv\")\n",
    "\n",
    "# Export the City_Data into a CSV.\n",
    "hotel_df.to_csv(output_data_file, index_label=\"City_ID\")"
   ]
  },
  {
   "cell_type": "code",
   "execution_count": 16,
   "metadata": {},
   "outputs": [
    {
     "output_type": "display_data",
     "data": {
      "text/plain": "Figure(layout=FigureLayout(height='420px'))",
      "application/vnd.jupyter.widget-view+json": {
       "version_major": 2,
       "version_minor": 0,
       "model_id": "3dbe109f01b344ea8042f28278210c50"
      }
     },
     "metadata": {}
    }
   ],
   "source": [
    "# set api key for gmaps\n",
    "gmaps.configure(api_key=google_api_key)\n",
    "\n",
    "# html for what goes in the descriptor box\n",
    "info_box_template = \"\"\"\n",
    "<dl>\n",
    "<dt>Hotel Name</dt><dd>{Hotel Name}</dd>\n",
    "<dt>City</dt><dd>{City}</dd>\n",
    "<dt>Country</dt><dd>{Country}</dd>\n",
    "<dt>Description</dt><dd>{Description}</dd>\n",
    "<dt>Max Temp</dt><dd>{Max Temp} °F</dd>\n",
    "</dl>\n",
    "\"\"\"\n",
    "# Store the DataFrame Row.\n",
    "hotel_info = [info_box_template.format(**row) for index, row in hotel_df.iterrows()]\n",
    "\n",
    "# Add a map of vacation spots and a pop-up marker for each city.\n",
    "locations = hotel_df[[\"Lat\", \"Lng\"]]\n",
    "fig = gmaps.figure(center=(30.0, 31.0), zoom_level=1.0)\n",
    "marker_layer = gmaps.marker_layer(locations, info_box_content=hotel_info)\n",
    "fig.add_layer(marker_layer)\n",
    "\n",
    "# Call the figure to plot the data.\n",
    "fig"
   ]
  },
  {
   "cell_type": "code",
   "execution_count": null,
   "metadata": {},
   "outputs": [],
   "source": []
  }
 ],
 "metadata": {
  "language_info": {
   "codemirror_mode": {
    "name": "ipython",
    "version": 3
   },
   "file_extension": ".py",
   "mimetype": "text/x-python",
   "name": "python",
   "nbconvert_exporter": "python",
   "pygments_lexer": "ipython3",
   "version": "3.7.7-final"
  },
  "orig_nbformat": 2,
  "kernelspec": {
   "name": "python_defaultSpec_1594329582554",
   "display_name": "Python 3.7.7 64-bit ('PythonData': conda)"
  }
 },
 "nbformat": 4,
 "nbformat_minor": 2
}